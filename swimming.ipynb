{
 "cells": [
  {
   "cell_type": "code",
   "execution_count": null,
   "source": [],
   "outputs": [],
   "metadata": {}
  },
  {
   "cell_type": "code",
   "execution_count": 5,
   "source": [
    "client_key = \"KmnHJ7qklkQWzopJJhpVrmFNe\"\n",
    "client_secret =  \"Q6jcBIdzuOqSbETZD1a1hwXVCb3npmlIhLFLVFA2XIqJPLgoK2\""
   ],
   "outputs": [],
   "metadata": {}
  },
  {
   "cell_type": "code",
   "execution_count": 14,
   "source": [
    "import requests\n",
    "import base64\n",
    "\n",
    "key_secret = '{}:{}'.format(client_key, client_secret).encode('ascii')\n",
    "b64_encoded_key = base64.b64encode(key_secret)\n",
    "b64_encoded_key = b64_encoded_key.decode('ascii')\n",
    "base_url = 'https://api.twitter.com/'\n",
    "auth_endpoint = base_url+'oauth2/token'\n",
    "\n",
    "auth_headers = { 'Authorization': 'Basic {}'.format(b64_encoded_key),\n",
    "                'Content-Type': 'application/x-www-form-urlencoded;charset=UTF-8'}\n",
    "\n",
    "auth_data = { 'grant_type': 'client_credentials'}\n",
    "response = requests.post(auth_endpoint, headers=auth_headers, data=auth_data)\n",
    "print(response.status_code)\n",
    "json_data =  response.json()\n",
    "access_token = json_data['access_token']\n",
    "search_headers = {'Authorization': 'Bearer {}'.format(access_token)    \n",
    "}\n",
    "\n",
    "parameters = { 'query': '#olympics swimming'}\n",
    "search_url = base_url+'2/tweets/search/recent'\n",
    "response = requests.get(search_url, headers=search_headers, params=parameters)\n",
    "response.status_code"
   ],
   "outputs": [
    {
     "output_type": "stream",
     "name": "stdout",
     "text": [
      "200\n"
     ]
    },
    {
     "output_type": "execute_result",
     "data": {
      "text/plain": [
       "200"
      ]
     },
     "metadata": {},
     "execution_count": 14
    }
   ],
   "metadata": {}
  },
  {
   "cell_type": "code",
   "execution_count": 15,
   "source": [
    "response.json()"
   ],
   "outputs": [
    {
     "output_type": "execute_result",
     "data": {
      "text/plain": [
       "{'data': [{'id': '1423447550758166531',\n",
       "   'text': 'RT @ubejyam_art: the encounter of the blue-eyed boys~ 🐬💙🏐 // (1/2)\\n\\nhaikyuu x free #Olympics crossover :)\\n\\n#OlympicGamesTokyo2020 #Olympics…'},\n",
       "  {'id': '1423446325891272710',\n",
       "   'text': 'RT @SarahMulkerrins: Great to chat to Australian swimming legend Ian Thorpe for @BBCWorld about athletes advocating for mental wellbeing at…'},\n",
       "  {'id': '1423445715200536578',\n",
       "   'text': '#UK #US #SA #Tennis #Trackandfield #Basketball #Gymnastics #Swimming #Knitting #TeamUSA #Olympics #Comedy https://t.co/M8zPF3VDqR'},\n",
       "  {'id': '1423443471126261765',\n",
       "   'text': \"RT @usarmywcap: Sgt. Samantha Schultz will be competing in the Women's Modern Pentathlon event at the Olympic Games in Tokyo, Japan today.…\"},\n",
       "  {'id': '1423442303901835266',\n",
       "   'text': 'LIFESTYLE COMPARISON: 3 reasons why Synchronized/ Artistic Swimming is regarded as Tokyo’s toughest or most Brutal sport In the entire Olympics explained. #TokyoOlympics #Japan #travel #Athletics #Olympics #gold #tech #startups #ArtisticGymnastics #medals \\nhttps://t.co/kXIEqeVPwR'},\n",
       "  {'id': '1423441269523587074',\n",
       "   'text': 'USA should be dominating the sports we invented, like skateboarding, basketball, baseball, swimming, running, and tae kwon do. #olympics'},\n",
       "  {'id': '1423441152150278145',\n",
       "   'text': \"RT @usarmywcap: Sgt. Samantha Schultz will be competing in the Women's Modern Pentathlon event at the Olympic Games in Tokyo, Japan today.…\"},\n",
       "  {'id': '1423440691108061191',\n",
       "   'text': 'Breast stroke is the speed walking of swimming. #Olympics #ChangeMyMind'},\n",
       "  {'id': '1423440443648393217',\n",
       "   'text': 'Hilbert. Wellbrock. Die 🇩🇪 Herren können Langstrecke. Respekt! #Olympics #athletics #Swimming  #Tokyo2020 #TeamD'},\n",
       "  {'id': '1423436100572434436',\n",
       "   'text': \"RT @TheoFleury14: We're ALL a Little 'Crazy' #Podcast\\n\\nEP16 Feat. American Olympic Gold Medalist in Swimming, @SamanthaAL4\\n\\nHosts: @SameHer…\"}],\n",
       " 'meta': {'newest_id': '1423447550758166531',\n",
       "  'oldest_id': '1423436100572434436',\n",
       "  'result_count': 10,\n",
       "  'next_token': 'b26v89c19zqg8o3fpdm7qb6eeicrxuelhize6ng7ssm0t'}}"
      ]
     },
     "metadata": {},
     "execution_count": 15
    }
   ],
   "metadata": {}
  }
 ],
 "metadata": {
  "orig_nbformat": 4,
  "language_info": {
   "name": "python",
   "version": "3.8.2",
   "mimetype": "text/x-python",
   "codemirror_mode": {
    "name": "ipython",
    "version": 3
   },
   "pygments_lexer": "ipython3",
   "nbconvert_exporter": "python",
   "file_extension": ".py"
  },
  "kernelspec": {
   "name": "python3",
   "display_name": "Python 3.8.2 64-bit ('base': conda)"
  },
  "interpreter": {
   "hash": "d5740b0c65ce1535d49f8104bf53e2dbf28aba8cf44c23304f5a7991b903c1ba"
  }
 },
 "nbformat": 4,
 "nbformat_minor": 2
}