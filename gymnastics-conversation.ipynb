{
 "cells": [
  {
   "cell_type": "code",
   "execution_count": 6,
   "source": [
    "import pandas as pd"
   ],
   "outputs": [],
   "metadata": {}
  },
  {
   "cell_type": "code",
   "execution_count": 7,
   "source": [
    "gynmastics_tweets = pd.read_pickle(\"./olympic-gynmastics.pkl\")"
   ],
   "outputs": [],
   "metadata": {}
  },
  {
   "cell_type": "code",
   "execution_count": 8,
   "source": [
    "# Sample a tweet; tweets are json in a list of a list\n",
    "gynmastics_tweets[0:10][0]"
   ],
   "outputs": [
    {
     "output_type": "execute_result",
     "data": {
      "text/plain": [
       "{'conversation_id': '1423002938872455170',\n",
       " 'created_at': '2021-08-04T19:28:33.000Z',\n",
       " 'entities': {'urls': [{'start': 117,\n",
       "    'end': 140,\n",
       "    'url': 'https://t.co/jckWLgKGHb',\n",
       "    'expanded_url': 'https://twitter.com/BetterLate_/status/1423002938872455170/video/1',\n",
       "    'display_url': 'pic.twitter.com/jckWLgKGHb'}],\n",
       "  'annotations': [{'start': 40,\n",
       "    'end': 54,\n",
       "    'probability': 0.9671,\n",
       "    'type': 'Person',\n",
       "    'normalized_text': 'Vanessa Ferrari'}],\n",
       "  'hashtags': [{'start': 60, 'end': 69, 'tag': 'Olympics'},\n",
       "   {'start': 88, 'end': 99, 'tag': 'gymnastics'},\n",
       "   {'start': 100, 'end': 116, 'tag': 'adultgymnastics'}]},\n",
       " 'id': '1423002938872455170',\n",
       " 'author_id': '1299413784533098496',\n",
       " 'text': 'A story of perseverance in 3 videos 🥺\\n\\nVanessa Ferrari 🇮🇹 🥈 #Olympics \\n\\nNever give up.\\n\\n#gymnastics #adultgymnastics https://t.co/jckWLgKGHb',\n",
       " 'lang': 'en',\n",
       " 'source': 'Twitter Web App'}"
      ]
     },
     "metadata": {},
     "execution_count": 8
    }
   ],
   "metadata": {}
  },
  {
   "cell_type": "code",
   "execution_count": 9,
   "source": [
    "# Get the IDs for the tweets\n",
    "conversation_ids = [ tweet['conversation_id'] for tweet in gynmastics_tweets[0:10] ]\n",
    "conversation_ids"
   ],
   "outputs": [
    {
     "output_type": "execute_result",
     "data": {
      "text/plain": [
       "['1423002938872455170',\n",
       " '1422999024865529864',\n",
       " '1422998976912105474',\n",
       " '1422766087091937285',\n",
       " '1422993621406597124',\n",
       " '1422992801868836864',\n",
       " '1422988204429414404',\n",
       " '1422985571195146248',\n",
       " '1422959335546757120',\n",
       " '1422984703984943104']"
      ]
     },
     "metadata": {},
     "execution_count": 9
    }
   ],
   "metadata": {}
  },
  {
   "cell_type": "code",
   "execution_count": null,
   "source": [],
   "outputs": [],
   "metadata": {}
  }
 ],
 "metadata": {
  "orig_nbformat": 4,
  "language_info": {
   "name": "python",
   "version": "3.9.5",
   "mimetype": "text/x-python",
   "codemirror_mode": {
    "name": "ipython",
    "version": 3
   },
   "pygments_lexer": "ipython3",
   "nbconvert_exporter": "python",
   "file_extension": ".py"
  },
  "kernelspec": {
   "name": "python3",
   "display_name": "Python 3.9.5 64-bit"
  },
  "interpreter": {
   "hash": "aee8b7b246df8f9039afb4144a1f6fd8d2ca17a180786b69acc140d282b71a49"
  }
 },
 "nbformat": 4,
 "nbformat_minor": 2
}