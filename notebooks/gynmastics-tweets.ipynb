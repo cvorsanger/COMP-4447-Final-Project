{
 "cells": [
  {
   "cell_type": "code",
   "execution_count": 1,
   "source": [
    "import base64\n",
    "import datetime\n",
    "import json\n",
    "import pandas as pd\n",
    "import pickle\n",
    "import pprint\n",
    "import numpy as np\n",
    "import requests\n",
    "import time"
   ],
   "outputs": [],
   "metadata": {}
  },
  {
   "cell_type": "markdown",
   "source": [
    "# Setup Configuration"
   ],
   "metadata": {}
  },
  {
   "cell_type": "code",
   "execution_count": 2,
   "source": [
    "client_key = 'k7IeaeoVVSVVRs2VMRyjWMGhB'\n",
    "client_secret = 'QjWhmf3ylIKXTYn6zv26tTkPjobjbapTKlC4JDay74jd647mcl'\n",
    "bearer_token = 'AAAAAAAAAAAAAAAAAAAAAO3%2BQgEAAAAAKO%2BcZLOP%2B1jh1SeWDdIMpCF4smc%3DiUFDhj7SZfb1fl177n5Fipd9OA2Elj9aVdezk2hhBUGbTrdLgY'\n",
    "\n",
    "key_secret = '{}:{}'.format(client_key, client_secret).encode('ascii')\n",
    "b64_encoded_key = base64.b64encode(key_secret)\n",
    "b64_encoded_key = b64_encoded_key.decode('ascii')\n",
    "\n",
    "base_url = 'https://api.twitter.com/'\n",
    "auth_endpoint = base_url + 'oauth2/token'\n",
    "\n",
    "auth_headers = { 'Authorization': 'Basic {}'.format(b64_encoded_key),\n",
    "                'Content-Type': 'application/x-www-form-urlencoded;charset=UTF-8' }\n",
    "\n",
    "auth_data = { 'grant_type': 'client_credentials' }\n",
    "\n",
    "# Get access token\n",
    "response = requests.post(auth_endpoint, headers=auth_headers, data=auth_data)\n",
    "response.status_code"
   ],
   "outputs": [
    {
     "output_type": "execute_result",
     "data": {
      "text/plain": [
       "200"
      ]
     },
     "metadata": {},
     "execution_count": 2
    }
   ],
   "metadata": {}
  },
  {
   "cell_type": "code",
   "execution_count": 3,
   "source": [
    "json_data =  response.json()\n",
    "access_token = json_data['access_token']"
   ],
   "outputs": [],
   "metadata": {}
  },
  {
   "cell_type": "markdown",
   "source": [
    "## Setup Request Params"
   ],
   "metadata": {}
  },
  {
   "cell_type": "code",
   "execution_count": 4,
   "source": [
    "seven_days_ago_now = datetime.datetime.now() - datetime.timedelta(days=6)"
   ],
   "outputs": [],
   "metadata": {}
  },
  {
   "cell_type": "markdown",
   "source": [
    "# Conduct Sample Request"
   ],
   "metadata": {}
  },
  {
   "cell_type": "code",
   "execution_count": 98,
   "source": [
    "max_tweets = 200\n",
    "tweet_limit = 100\n",
    "\n",
    "search_url = base_url + '2/tweets/search/recent'"
   ],
   "outputs": [],
   "metadata": {}
  },
  {
   "cell_type": "markdown",
   "source": [
    "# Seed Originating Tweets"
   ],
   "metadata": {}
  },
  {
   "cell_type": "code",
   "execution_count": 93,
   "source": [
    "def get_tweets(access_token, query, max_tweets=10, tweet_limit=10):\n",
    "    \"\"\"Retrieve tweets from the recent search API.\n",
    "        Args\n",
    "        ----\n",
    "        access_token (str): A valid bearer token for making Twitter API requests.\n",
    "        query (str): A valid Twitter query string for filtering the search tweets.\n",
    "        max_tweets (int): The maximum number of tweets to collect in total.\n",
    "        tweet_limit (int): The number of maximum tweets per API request. \n",
    "    \"\"\"\n",
    "\n",
    "    page_token = None\n",
    "    tweet_data = []\n",
    "\n",
    "    search_headers = {\n",
    "        'Authorization': 'Bearer {}'.format(access_token),\n",
    "        'User-Agent': 'v2FullArchiveSearchPython',\n",
    "    }\n",
    "\n",
    "    # Divides the max tweets into the appropriate number of requests based on the tweet_limit.\n",
    "    for i in range(max_tweets // tweet_limit - 1):\n",
    "        search_parameters = {\n",
    "            'query': query,\n",
    "            'max_results': tweet_limit,\n",
    "            'tweet.fields': 'lang,created_at,referenced_tweets,source,conversation_id'\n",
    "        }\n",
    "\n",
    "        print(f'Request {i + 1}: {query}')\n",
    "        \n",
    "        # If we reach the 2nd page of results, add a next_token attribute to the search parameters\n",
    "        if i > 0:\n",
    "            search_parameters['next_token'] = page_token\n",
    "\n",
    "        response = requests.get(search_url, headers=search_headers, params=search_parameters)\n",
    "        if response.status_code != 200:\n",
    "            print(f'\\tError occurred: Status Code{response.status_code}: {response.text}')\n",
    "        else:\n",
    "            # We need to check for a result count before doing anything futher; if we have result_count we have data\n",
    "            if response.json()['meta']['result_count'] > 0:\n",
    "                tweet_data.extend(response.json()['data'])\n",
    "                \n",
    "                # If a 'next_token' exists, then update the page token to continue pagination through results\n",
    "                if 'next_token' in response.json()['meta']:\n",
    "                    page_token = response.json()['meta']['next_token']\n",
    "            else:\n",
    "                print(f'\\tNo data returned for query!')\n",
    "                break\n",
    "        \n",
    "        print(f'\\t{len(tweet_data)} total tweets gathered')\n",
    "\n",
    "        time.sleep(1)\n",
    "\n",
    "    return tweet_data"
   ],
   "outputs": [],
   "metadata": {}
  },
  {
   "cell_type": "code",
   "execution_count": 99,
   "source": [
    "# Make the request\n",
    "q = '#olympics gymnastics -is:retweet'\n",
    "olympic_tweets = get_tweets(access_token, q, max_tweets, tweet_limit)\n",
    "# olympic_tweets"
   ],
   "outputs": [
    {
     "output_type": "stream",
     "name": "stdout",
     "text": [
      "Request 1: #olympics gymnastics -is:retweet\n",
      "\t100 total tweets gathered\n"
     ]
    }
   ],
   "metadata": {}
  },
  {
   "cell_type": "code",
   "execution_count": 100,
   "source": [
    "len(olympic_tweets)"
   ],
   "outputs": [
    {
     "output_type": "execute_result",
     "data": {
      "text/plain": [
       "100"
      ]
     },
     "metadata": {},
     "execution_count": 100
    }
   ],
   "metadata": {}
  },
  {
   "cell_type": "code",
   "execution_count": 101,
   "source": [
    "with open('../data/olympic-gynmastics.pkl', 'wb') as f:\n",
    "\tpickle.dump(olympic_tweets, f)"
   ],
   "outputs": [],
   "metadata": {}
  },
  {
   "cell_type": "markdown",
   "source": [
    "# Deeper Conversations\n",
    "In this section, we aim to gain additional context to Olympic tweets by digging down into the conversational elements of the Twitter-sphere: replies. "
   ],
   "metadata": {}
  },
  {
   "cell_type": "code",
   "execution_count": 102,
   "source": [
    "gynmastics_tweets = pd.read_pickle(\"../data/olympic-gynmastics.pkl\")"
   ],
   "outputs": [],
   "metadata": {}
  },
  {
   "cell_type": "code",
   "execution_count": 103,
   "source": [
    "# Get the conversation IDs for the tweets\n",
    "conversation_ids = [ tweet['conversation_id'] for tweet in gynmastics_tweets ]\n",
    "len(conversation_ids)"
   ],
   "outputs": [
    {
     "output_type": "execute_result",
     "data": {
      "text/plain": [
       "100"
      ]
     },
     "metadata": {},
     "execution_count": 103
    }
   ],
   "metadata": {}
  },
  {
   "cell_type": "code",
   "execution_count": 104,
   "source": [
    "# Query all replies\n",
    "replies = []\n",
    "\n",
    "for id in conversation_ids[0:11]:\n",
    "\tq = 'conversation_id:{id}'.format(id=id)\n",
    "\treplies.extend(get_tweets(access_token, q, max_tweets, tweet_limit))"
   ],
   "outputs": [
    {
     "output_type": "stream",
     "name": "stdout",
     "text": [
      "Request 1: conversation_id:1423099685938466820\n",
      "\tNo data returned for query!\n",
      "Request 1: conversation_id:1423099132210675716\n",
      "\tNo data returned for query!\n",
      "Request 1: conversation_id:1423098788994961408\n",
      "\tNo data returned for query!\n",
      "Request 1: conversation_id:1423097976600342532\n",
      "\tNo data returned for query!\n",
      "Request 1: conversation_id:1423097895557926915\n",
      "\tNo data returned for query!\n",
      "Request 1: conversation_id:1423096463198810117\n",
      "\tNo data returned for query!\n",
      "Request 1: conversation_id:1423025757727625228\n",
      "\t100 total tweets gathered\n",
      "Request 1: conversation_id:1423089600931635200\n",
      "\t1 total tweets gathered\n",
      "Request 1: conversation_id:1422950455097786369\n",
      "\t18 total tweets gathered\n",
      "Request 1: conversation_id:1423054645606457348\n",
      "\t8 total tweets gathered\n",
      "Request 1: conversation_id:1423046468412264449\n",
      "\t11 total tweets gathered\n"
     ]
    }
   ],
   "metadata": {}
  },
  {
   "cell_type": "code",
   "execution_count": null,
   "source": [
    "replies[0:11]"
   ],
   "outputs": [],
   "metadata": {}
  },
  {
   "cell_type": "code",
   "execution_count": null,
   "source": [
    "with open('../data/olympic-gynmastics-replies.pkl', 'wb') as f:\n",
    "\tpickle.dump(replies, f)"
   ],
   "outputs": [],
   "metadata": {}
  },
  {
   "cell_type": "markdown",
   "source": [
    "# Inspect the Data\n",
    "* Convert the original tweet data to a dataframe\n",
    "* Convert the response tweet data to a dataframe"
   ],
   "metadata": {}
  },
  {
   "cell_type": "code",
   "execution_count": 108,
   "source": [
    "pd.set_option('expand_frame_repr', False)"
   ],
   "outputs": [],
   "metadata": {}
  },
  {
   "cell_type": "code",
   "execution_count": 109,
   "source": [
    "original_tweets_df = pd.DataFrame(olympic_tweets)\n",
    "original_tweets_df.head(5)"
   ],
   "outputs": [
    {
     "output_type": "execute_result",
     "data": {
      "text/plain": [
       "                    id               source                created_at                                               text      conversation_id lang            author_id                                  referenced_tweets\n",
       "0  1423099685938466820  Twitter for Android  2021-08-05T01:52:59.000Z  #celebrity #celebrities #news #newstuff #News1...  1423099685938466820  und  1393325909344538627                                                NaN\n",
       "1  1423099132210675716  Twitter for Android  2021-08-05T01:50:47.000Z  #celebrity #celebrities #news #newstuff #News1...  1423099132210675716  und             24902316  [{'type': 'quoted', 'id': '1423095034983948297'}]\n",
       "2  1423098788994961408  Twitter for Android  2021-08-05T01:49:25.000Z  #celebrity #celebrities #news #newstuff #News1...  1423098788994961408  und  1393325909344538627  [{'type': 'quoted', 'id': '1423095724212989952'}]\n",
       "3  1423097976600342532  Twitter for Android  2021-08-05T01:46:12.000Z     I miss gymnastics already #Olympics #Tokyo2020  1423097976600342532   en           2363192719                                                NaN\n",
       "4  1423097895557926915  Twitter for Android  2021-08-05T01:45:52.000Z  This #Olympics #gymnastics floor routine is pr...  1423097895557926915   en            460754547                                                NaN"
      ],
      "text/html": [
       "<div>\n",
       "<style scoped>\n",
       "    .dataframe tbody tr th:only-of-type {\n",
       "        vertical-align: middle;\n",
       "    }\n",
       "\n",
       "    .dataframe tbody tr th {\n",
       "        vertical-align: top;\n",
       "    }\n",
       "\n",
       "    .dataframe thead th {\n",
       "        text-align: right;\n",
       "    }\n",
       "</style>\n",
       "<table border=\"1\" class=\"dataframe\">\n",
       "  <thead>\n",
       "    <tr style=\"text-align: right;\">\n",
       "      <th></th>\n",
       "      <th>id</th>\n",
       "      <th>source</th>\n",
       "      <th>created_at</th>\n",
       "      <th>text</th>\n",
       "      <th>conversation_id</th>\n",
       "      <th>lang</th>\n",
       "      <th>author_id</th>\n",
       "      <th>referenced_tweets</th>\n",
       "    </tr>\n",
       "  </thead>\n",
       "  <tbody>\n",
       "    <tr>\n",
       "      <th>0</th>\n",
       "      <td>1423099685938466820</td>\n",
       "      <td>Twitter for Android</td>\n",
       "      <td>2021-08-05T01:52:59.000Z</td>\n",
       "      <td>#celebrity #celebrities #news #newstuff #News1...</td>\n",
       "      <td>1423099685938466820</td>\n",
       "      <td>und</td>\n",
       "      <td>1393325909344538627</td>\n",
       "      <td>NaN</td>\n",
       "    </tr>\n",
       "    <tr>\n",
       "      <th>1</th>\n",
       "      <td>1423099132210675716</td>\n",
       "      <td>Twitter for Android</td>\n",
       "      <td>2021-08-05T01:50:47.000Z</td>\n",
       "      <td>#celebrity #celebrities #news #newstuff #News1...</td>\n",
       "      <td>1423099132210675716</td>\n",
       "      <td>und</td>\n",
       "      <td>24902316</td>\n",
       "      <td>[{'type': 'quoted', 'id': '1423095034983948297'}]</td>\n",
       "    </tr>\n",
       "    <tr>\n",
       "      <th>2</th>\n",
       "      <td>1423098788994961408</td>\n",
       "      <td>Twitter for Android</td>\n",
       "      <td>2021-08-05T01:49:25.000Z</td>\n",
       "      <td>#celebrity #celebrities #news #newstuff #News1...</td>\n",
       "      <td>1423098788994961408</td>\n",
       "      <td>und</td>\n",
       "      <td>1393325909344538627</td>\n",
       "      <td>[{'type': 'quoted', 'id': '1423095724212989952'}]</td>\n",
       "    </tr>\n",
       "    <tr>\n",
       "      <th>3</th>\n",
       "      <td>1423097976600342532</td>\n",
       "      <td>Twitter for Android</td>\n",
       "      <td>2021-08-05T01:46:12.000Z</td>\n",
       "      <td>I miss gymnastics already #Olympics #Tokyo2020</td>\n",
       "      <td>1423097976600342532</td>\n",
       "      <td>en</td>\n",
       "      <td>2363192719</td>\n",
       "      <td>NaN</td>\n",
       "    </tr>\n",
       "    <tr>\n",
       "      <th>4</th>\n",
       "      <td>1423097895557926915</td>\n",
       "      <td>Twitter for Android</td>\n",
       "      <td>2021-08-05T01:45:52.000Z</td>\n",
       "      <td>This #Olympics #gymnastics floor routine is pr...</td>\n",
       "      <td>1423097895557926915</td>\n",
       "      <td>en</td>\n",
       "      <td>460754547</td>\n",
       "      <td>NaN</td>\n",
       "    </tr>\n",
       "  </tbody>\n",
       "</table>\n",
       "</div>"
      ]
     },
     "metadata": {},
     "execution_count": 109
    }
   ],
   "metadata": {}
  },
  {
   "cell_type": "code",
   "execution_count": 110,
   "source": [
    "response_tweet_df = pd.DataFrame(replies)\n",
    "response_tweet_df.head(5)"
   ],
   "outputs": [
    {
     "output_type": "execute_result",
     "data": {
      "text/plain": [
       "                                                text lang                created_at      conversation_id              source            author_id                                  referenced_tweets                   id\n",
       "0              @Chris_Meloni https://t.co/9Uxk0kQbmh  und  2021-08-05T01:55:52.000Z  1423025757727625228    Twitter for iPad           3799025354  [{'type': 'replied_to', 'id': '142302575772762...  1423100412744257540\n",
       "1      @Chris_Meloni is there a pic from behind too?   en  2021-08-05T01:52:15.000Z  1423025757727625228     Twitter Web App  1109803723583340545  [{'type': 'replied_to', 'id': '142302575772762...  1423099499774423043\n",
       "2  @Chris_Meloni What’s with the popcorn? https:/...   en  2021-08-05T01:48:54.000Z  1423025757727625228  Twitter for iPhone           2937878247  [{'type': 'replied_to', 'id': '142302575772762...  1423098658678005764\n",
       "3                                  @Chris_Meloni 😍😍😍  und  2021-08-05T01:47:17.000Z  1423025757727625228  Twitter for iPhone  1393181802378973194  [{'type': 'replied_to', 'id': '142302575772762...  1423098251587239946\n",
       "4                    @Chris_Meloni Are you an actor?   en  2021-08-05T01:43:58.000Z  1423025757727625228  Twitter for iPhone            294122390  [{'type': 'replied_to', 'id': '142302575772762...  1423097417122074638"
      ],
      "text/html": [
       "<div>\n",
       "<style scoped>\n",
       "    .dataframe tbody tr th:only-of-type {\n",
       "        vertical-align: middle;\n",
       "    }\n",
       "\n",
       "    .dataframe tbody tr th {\n",
       "        vertical-align: top;\n",
       "    }\n",
       "\n",
       "    .dataframe thead th {\n",
       "        text-align: right;\n",
       "    }\n",
       "</style>\n",
       "<table border=\"1\" class=\"dataframe\">\n",
       "  <thead>\n",
       "    <tr style=\"text-align: right;\">\n",
       "      <th></th>\n",
       "      <th>text</th>\n",
       "      <th>lang</th>\n",
       "      <th>created_at</th>\n",
       "      <th>conversation_id</th>\n",
       "      <th>source</th>\n",
       "      <th>author_id</th>\n",
       "      <th>referenced_tweets</th>\n",
       "      <th>id</th>\n",
       "    </tr>\n",
       "  </thead>\n",
       "  <tbody>\n",
       "    <tr>\n",
       "      <th>0</th>\n",
       "      <td>@Chris_Meloni https://t.co/9Uxk0kQbmh</td>\n",
       "      <td>und</td>\n",
       "      <td>2021-08-05T01:55:52.000Z</td>\n",
       "      <td>1423025757727625228</td>\n",
       "      <td>Twitter for iPad</td>\n",
       "      <td>3799025354</td>\n",
       "      <td>[{'type': 'replied_to', 'id': '142302575772762...</td>\n",
       "      <td>1423100412744257540</td>\n",
       "    </tr>\n",
       "    <tr>\n",
       "      <th>1</th>\n",
       "      <td>@Chris_Meloni is there a pic from behind too?</td>\n",
       "      <td>en</td>\n",
       "      <td>2021-08-05T01:52:15.000Z</td>\n",
       "      <td>1423025757727625228</td>\n",
       "      <td>Twitter Web App</td>\n",
       "      <td>1109803723583340545</td>\n",
       "      <td>[{'type': 'replied_to', 'id': '142302575772762...</td>\n",
       "      <td>1423099499774423043</td>\n",
       "    </tr>\n",
       "    <tr>\n",
       "      <th>2</th>\n",
       "      <td>@Chris_Meloni What’s with the popcorn? https:/...</td>\n",
       "      <td>en</td>\n",
       "      <td>2021-08-05T01:48:54.000Z</td>\n",
       "      <td>1423025757727625228</td>\n",
       "      <td>Twitter for iPhone</td>\n",
       "      <td>2937878247</td>\n",
       "      <td>[{'type': 'replied_to', 'id': '142302575772762...</td>\n",
       "      <td>1423098658678005764</td>\n",
       "    </tr>\n",
       "    <tr>\n",
       "      <th>3</th>\n",
       "      <td>@Chris_Meloni 😍😍😍</td>\n",
       "      <td>und</td>\n",
       "      <td>2021-08-05T01:47:17.000Z</td>\n",
       "      <td>1423025757727625228</td>\n",
       "      <td>Twitter for iPhone</td>\n",
       "      <td>1393181802378973194</td>\n",
       "      <td>[{'type': 'replied_to', 'id': '142302575772762...</td>\n",
       "      <td>1423098251587239946</td>\n",
       "    </tr>\n",
       "    <tr>\n",
       "      <th>4</th>\n",
       "      <td>@Chris_Meloni Are you an actor?</td>\n",
       "      <td>en</td>\n",
       "      <td>2021-08-05T01:43:58.000Z</td>\n",
       "      <td>1423025757727625228</td>\n",
       "      <td>Twitter for iPhone</td>\n",
       "      <td>294122390</td>\n",
       "      <td>[{'type': 'replied_to', 'id': '142302575772762...</td>\n",
       "      <td>1423097417122074638</td>\n",
       "    </tr>\n",
       "  </tbody>\n",
       "</table>\n",
       "</div>"
      ]
     },
     "metadata": {},
     "execution_count": 110
    }
   ],
   "metadata": {}
  },
  {
   "cell_type": "markdown",
   "source": [
    "# Data Cleansing\n",
    "* Convert data types\n",
    "* Handle NaN values\n",
    "* Clean text\n",
    "\t* Remove stop words\n",
    "\t* Remove puncutation\n",
    "\t* Remove user mentions\n",
    "\t* Remove hashtags\n",
    "\t* Remove URLs"
   ],
   "metadata": {}
  },
  {
   "cell_type": "markdown",
   "source": [
    "# Word Preparation\n",
    "* Convert casing\n",
    "* Tokenize words\n",
    "* Stemming & Lemmatization\n",
    "* Check for stop words and determine how to handle\n",
    "* POS tagging"
   ],
   "metadata": {}
  }
 ],
 "metadata": {
  "interpreter": {
   "hash": "aee8b7b246df8f9039afb4144a1f6fd8d2ca17a180786b69acc140d282b71a49"
  },
  "kernelspec": {
   "name": "python3",
   "display_name": "Python 3.9.5 64-bit"
  },
  "language_info": {
   "codemirror_mode": {
    "name": "ipython",
    "version": 3
   },
   "file_extension": ".py",
   "mimetype": "text/x-python",
   "name": "python",
   "nbconvert_exporter": "python",
   "pygments_lexer": "ipython3",
   "version": "3.9.5"
  }
 },
 "nbformat": 4,
 "nbformat_minor": 2
}