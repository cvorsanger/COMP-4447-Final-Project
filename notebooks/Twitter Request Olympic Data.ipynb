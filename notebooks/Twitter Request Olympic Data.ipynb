{
 "cells": [
  {
   "cell_type": "markdown",
   "source": [
    "# Set Up to Collect Data"
   ],
   "metadata": {}
  },
  {
   "cell_type": "code",
   "execution_count": 1,
   "source": [
    "client_key = 'U1u6vGjWc29m9xnPPm8VPfKiT'\n",
    "client_secret = 'BAGxUP2vaaNgxgs80PAdJxT2ofp2wItRmURMOhIdfR6tiTFIoo'"
   ],
   "outputs": [],
   "metadata": {}
  },
  {
   "cell_type": "code",
   "execution_count": 2,
   "source": [
    "import requests\n",
    "import base64\n",
    "\n",
    "key_secret = '{}:{}'.format(client_key, client_secret).encode('ascii')\n",
    "b64_encoded_key = base64.b64encode(key_secret)\n",
    "b64_encoded_key = b64_encoded_key.decode('ascii')"
   ],
   "outputs": [],
   "metadata": {}
  },
  {
   "cell_type": "code",
   "execution_count": 3,
   "source": [
    "base_url = 'https://api.twitter.com/'\n",
    "auth_endpoint = base_url+'oauth2/token'\n",
    "\n",
    "auth_headers = { 'Authorization': 'Basic {}'.format(b64_encoded_key),\n",
    "                'Content-Type': 'application/x-www-form-urlencoded;charset=UTF-8'}\n",
    "\n",
    "auth_data = { 'grant_type': 'client_credentials'}"
   ],
   "outputs": [],
   "metadata": {}
  },
  {
   "cell_type": "code",
   "execution_count": 4,
   "source": [
    "response = requests.post(auth_endpoint, headers=auth_headers, data=auth_data)\n",
    "response.status_code"
   ],
   "outputs": [
    {
     "output_type": "execute_result",
     "data": {
      "text/plain": [
       "200"
      ]
     },
     "metadata": {},
     "execution_count": 4
    }
   ],
   "metadata": {}
  },
  {
   "cell_type": "code",
   "execution_count": 5,
   "source": [
    "json_data =  response.json()"
   ],
   "outputs": [
    {
     "output_type": "execute_result",
     "data": {
      "text/plain": [
       "{'token_type': 'bearer',\n",
       " 'access_token': 'AAAAAAAAAAAAAAAAAAAAAGGTRQEAAAAA%2FmRkYlXBqrl%2FK3nYg%2FbW%2F%2FX0NDE%3DphL8xuqPTvKAsWwvVV4bNab9ve58CYNqzoqgd8IdXeVoRjGMie'}"
      ]
     },
     "metadata": {},
     "execution_count": 5
    }
   ],
   "metadata": {}
  },
  {
   "cell_type": "code",
   "execution_count": 6,
   "source": [
    "access_token = json_data['access_token']"
   ],
   "outputs": [],
   "metadata": {}
  },
  {
   "cell_type": "markdown",
   "source": [
    "# Search for Tweets with #Olympics and Cycling\n",
    "Here, I have search for tweets with the following link:\n",
    "https://twitter.com/search?q=%23olympics%20cycling&src=typed_query"
   ],
   "metadata": {}
  },
  {
   "cell_type": "code",
   "execution_count": 8,
   "source": [
    "max_tweets=10000\n",
    "tw_limit=100# we can get only 100 tweet per call with standard search api\n",
    "tweets = []"
   ],
   "outputs": [],
   "metadata": {}
  },
  {
   "cell_type": "code",
   "execution_count": 13,
   "source": [
    "search_headers = {'Authorization': 'Bearer {}'.format(access_token)}\n",
    "\n",
    "parameters = { 'q': '#olympics AND cycling','result_type': 'recent','count': 100}\n",
    "\n",
    "search_url = base_url+'1.1/search/tweets.json'\n",
    "\n",
    "response = requests.get(search_url, headers=search_headers, params=parameters)\n",
    "\n",
    "print(response.status_code)"
   ],
   "outputs": [
    {
     "output_type": "stream",
     "name": "stdout",
     "text": [
      "200\n"
     ]
    }
   ],
   "metadata": {}
  },
  {
   "cell_type": "code",
   "execution_count": 14,
   "source": [
    "olympic_cycling = response.json()"
   ],
   "outputs": [],
   "metadata": {}
  },
  {
   "cell_type": "code",
   "execution_count": 15,
   "source": [
    "len(olympic_cycling['statuses'])"
   ],
   "outputs": [
    {
     "output_type": "execute_result",
     "data": {
      "text/plain": [
       "100"
      ]
     },
     "metadata": {},
     "execution_count": 15
    }
   ],
   "metadata": {}
  },
  {
   "cell_type": "code",
   "execution_count": 18,
   "source": [
    "tweets +=olympic_cycling['statuses']"
   ],
   "outputs": [],
   "metadata": {}
  },
  {
   "cell_type": "code",
   "execution_count": 19,
   "source": [
    " ids = [tw['id'] for tw in olympic_cycling['statuses']]"
   ],
   "outputs": [],
   "metadata": {}
  },
  {
   "cell_type": "code",
   "execution_count": 20,
   "source": [
    "min_id = min(ids)"
   ],
   "outputs": [],
   "metadata": {}
  },
  {
   "cell_type": "code",
   "execution_count": 21,
   "source": [
    "tw_ids = []\n",
    "tw_ids+=ids"
   ],
   "outputs": [],
   "metadata": {}
  },
  {
   "cell_type": "markdown",
   "source": [
    "As per twitter api documentation we can use\n",
    "\n",
    "max_id:Returns results with an ID less than (that is, older than) or equal to the specified ID.\n",
    "\n",
    "to get older tweets"
   ],
   "metadata": {}
  },
  {
   "cell_type": "markdown",
   "source": [
    "# Start to gather tweets"
   ],
   "metadata": {}
  },
  {
   "cell_type": "code",
   "execution_count": 22,
   "source": [
    "for  i in range(max_tweets//tw_limit -1):\n",
    "    parameters = { 'q': '#olympics AND cycling',\n",
    "                    'result_type': 'recent',\n",
    "                'count': tw_limit,\n",
    "                  'max_id':min_id\n",
    "                 }\n",
    "    print(\"searching tweets with id  < {}\".format(min_id))\n",
    "    search_url = base_url+'1.1/search/tweets.json'\n",
    "    response = requests.get(search_url, headers=search_headers, params=parameters)\n",
    "    olympic_cycling = response.json()\n",
    "    ids = [tw['id'] for tw in olympic_cycling['statuses']]\n",
    "    tw_ids+=ids\n",
    "    print(i, len(olympic_cycling['statuses']))\n",
    "    min_id = min(ids)\n",
    "    tweets +=olympic_cycling['statuses']"
   ],
   "outputs": [
    {
     "output_type": "stream",
     "name": "stdout",
     "text": [
      "searching tweets with id  < 1421746970360631299\n",
      "0 100\n",
      "searching tweets with id  < 1421675650234998785\n",
      "1 100\n",
      "searching tweets with id  < 1421581573485387780\n",
      "2 100\n",
      "searching tweets with id  < 1421337224130580484\n",
      "3 100\n",
      "searching tweets with id  < 1421172971973091328\n",
      "4 100\n",
      "searching tweets with id  < 1421070710022213638\n",
      "5 100\n",
      "searching tweets with id  < 1421007603526668292\n",
      "6 100\n",
      "searching tweets with id  < 1420953653603708928\n",
      "7 100\n",
      "searching tweets with id  < 1420862681150590976\n",
      "8 100\n",
      "searching tweets with id  < 1420811443587407877\n",
      "9 100\n",
      "searching tweets with id  < 1420790392673427461\n",
      "10 100\n",
      "searching tweets with id  < 1420772757185470473\n",
      "11 100\n",
      "searching tweets with id  < 1420748027111755789\n",
      "12 100\n",
      "searching tweets with id  < 1420729327231062019\n",
      "13 100\n",
      "searching tweets with id  < 1420706131140304899\n",
      "14 100\n",
      "searching tweets with id  < 1420686136964485123\n",
      "15 100\n",
      "searching tweets with id  < 1420672044161769473\n",
      "16 100\n",
      "searching tweets with id  < 1420658532999905281\n",
      "17 100\n",
      "searching tweets with id  < 1420647828049825803\n",
      "18 100\n",
      "searching tweets with id  < 1420636728226840578\n",
      "19 100\n",
      "searching tweets with id  < 1420623820931706880\n",
      "20 100\n",
      "searching tweets with id  < 1420593129204457476\n",
      "21 100\n",
      "searching tweets with id  < 1420539543258865670\n",
      "22 100\n",
      "searching tweets with id  < 1420487407066140672\n",
      "23 100\n",
      "searching tweets with id  < 1420460900390219776\n",
      "24 100\n",
      "searching tweets with id  < 1420443413032361984\n",
      "25 100\n",
      "searching tweets with id  < 1420422835353309186\n",
      "26 100\n",
      "searching tweets with id  < 1420386048933249025\n",
      "27 100\n",
      "searching tweets with id  < 1420339673138860033\n",
      "28 100\n",
      "searching tweets with id  < 1420302524389724167\n",
      "29 100\n",
      "searching tweets with id  < 1420291972275843074\n",
      "30 100\n",
      "searching tweets with id  < 1420259556907569152\n",
      "31 100\n",
      "searching tweets with id  < 1420227959433011200\n",
      "32 100\n",
      "searching tweets with id  < 1420192335053328387\n",
      "33 100\n",
      "searching tweets with id  < 1420085869982142469\n",
      "34 100\n",
      "searching tweets with id  < 1419952767842533423\n",
      "35 100\n",
      "searching tweets with id  < 1419887441750732819\n",
      "36 100\n",
      "searching tweets with id  < 1419784273553498112\n",
      "37 75\n",
      "searching tweets with id  < 1419723972976029699\n",
      "38 78\n",
      "searching tweets with id  < 1419682942016802819\n",
      "39 55\n",
      "searching tweets with id  < 1419639318881083402\n",
      "40 62\n",
      "searching tweets with id  < 1419610251280752645\n",
      "41 91\n",
      "searching tweets with id  < 1419576637973319682\n",
      "42 100\n",
      "searching tweets with id  < 1419561358119612416\n",
      "43 100\n",
      "searching tweets with id  < 1419548991457538050\n",
      "44 100\n",
      "searching tweets with id  < 1419520737459810305\n",
      "45 75\n",
      "searching tweets with id  < 1419455855322451973\n",
      "46 100\n",
      "searching tweets with id  < 1419404851621019649\n",
      "47 100\n",
      "searching tweets with id  < 1419357640975585288\n",
      "48 100\n",
      "searching tweets with id  < 1419315883181166599\n",
      "49 100\n",
      "searching tweets with id  < 1419282712834187266\n",
      "50 100\n",
      "searching tweets with id  < 1419251315826323460\n",
      "51 100\n",
      "searching tweets with id  < 1419231511916679168\n",
      "52 100\n",
      "searching tweets with id  < 1419220072745349120\n",
      "53 100\n",
      "searching tweets with id  < 1419215030638321669\n",
      "54 100\n",
      "searching tweets with id  < 1419213332502880259\n",
      "55 100\n",
      "searching tweets with id  < 1419210256689684480\n",
      "56 100\n",
      "searching tweets with id  < 1419199259744903168\n",
      "57 100\n",
      "searching tweets with id  < 1419161360647159809\n",
      "58 100\n",
      "searching tweets with id  < 1419108798153822210\n",
      "59 55\n",
      "searching tweets with id  < 1419055013343731718\n",
      "60 100\n",
      "searching tweets with id  < 1418991283540987908\n",
      "61 76\n",
      "searching tweets with id  < 1418947134129385485\n",
      "62 1\n",
      "searching tweets with id  < 1418947134129385485\n",
      "63 1\n",
      "searching tweets with id  < 1418947134129385485\n",
      "64 1\n",
      "searching tweets with id  < 1418947134129385485\n",
      "65 1\n",
      "searching tweets with id  < 1418947134129385485\n",
      "66 1\n",
      "searching tweets with id  < 1418947134129385485\n",
      "67 1\n",
      "searching tweets with id  < 1418947134129385485\n",
      "68 1\n",
      "searching tweets with id  < 1418947134129385485\n",
      "69 1\n",
      "searching tweets with id  < 1418947134129385485\n",
      "70 1\n",
      "searching tweets with id  < 1418947134129385485\n",
      "71 1\n",
      "searching tweets with id  < 1418947134129385485\n",
      "72 1\n",
      "searching tweets with id  < 1418947134129385485\n",
      "73 1\n",
      "searching tweets with id  < 1418947134129385485\n",
      "74 1\n",
      "searching tweets with id  < 1418947134129385485\n",
      "75 1\n",
      "searching tweets with id  < 1418947134129385485\n",
      "76 1\n",
      "searching tweets with id  < 1418947134129385485\n",
      "77 1\n",
      "searching tweets with id  < 1418947134129385485\n",
      "78 1\n",
      "searching tweets with id  < 1418947134129385485\n",
      "79 1\n",
      "searching tweets with id  < 1418947134129385485\n",
      "80 1\n",
      "searching tweets with id  < 1418947134129385485\n",
      "81 1\n",
      "searching tweets with id  < 1418947134129385485\n",
      "82 1\n",
      "searching tweets with id  < 1418947134129385485\n",
      "83 1\n",
      "searching tweets with id  < 1418947134129385485\n",
      "84 1\n",
      "searching tweets with id  < 1418947134129385485\n",
      "85 1\n",
      "searching tweets with id  < 1418947134129385485\n",
      "86 1\n",
      "searching tweets with id  < 1418947134129385485\n",
      "87 1\n",
      "searching tweets with id  < 1418947134129385485\n",
      "88 1\n",
      "searching tweets with id  < 1418947134129385485\n",
      "89 1\n",
      "searching tweets with id  < 1418947134129385485\n",
      "90 1\n",
      "searching tweets with id  < 1418947134129385485\n",
      "91 1\n",
      "searching tweets with id  < 1418947134129385485\n",
      "92 1\n",
      "searching tweets with id  < 1418947134129385485\n",
      "93 1\n",
      "searching tweets with id  < 1418947134129385485\n",
      "94 1\n",
      "searching tweets with id  < 1418947134129385485\n",
      "95 1\n",
      "searching tweets with id  < 1418947134129385485\n",
      "96 1\n",
      "searching tweets with id  < 1418947134129385485\n",
      "97 1\n",
      "searching tweets with id  < 1418947134129385485\n",
      "98 1\n"
     ]
    }
   ],
   "metadata": {}
  },
  {
   "cell_type": "code",
   "execution_count": 23,
   "source": [
    "print('Total tweets retrieved= {}'.format(len(tweets)))"
   ],
   "outputs": [
    {
     "output_type": "stream",
     "name": "stdout",
     "text": [
      "Total tweets retrieved= 6104\n"
     ]
    }
   ],
   "metadata": {}
  },
  {
   "cell_type": "code",
   "execution_count": 24,
   "source": [
    "import pprint #pretty-print” arbitrary Python data structures. Tweets object has hierarchical struture\n",
    "max_tweet_to_print=4"
   ],
   "outputs": [],
   "metadata": {}
  },
  {
   "cell_type": "code",
   "execution_count": 25,
   "source": [
    "pprint.pprint(tweets[0:max_tweet_to_print])"
   ],
   "outputs": [
    {
     "output_type": "stream",
     "name": "stdout",
     "text": [
      "[{'contributors': None,\n",
      "  'coordinates': None,\n",
      "  'created_at': 'Sun Aug 01 16:53:32 +0000 2021',\n",
      "  'entities': {'hashtags': [{'indices': [0, 9], 'text': 'Olympics'}],\n",
      "               'symbols': [],\n",
      "               'urls': [{'display_url': 'twitter.com/i/web/status/1…',\n",
      "                         'expanded_url': 'https://twitter.com/i/web/status/1421876763240640513',\n",
      "                         'indices': [117, 140],\n",
      "                         'url': 'https://t.co/RJo9zFeZiP'}],\n",
      "               'user_mentions': []},\n",
      "  'favorite_count': 0,\n",
      "  'favorited': False,\n",
      "  'geo': None,\n",
      "  'id': 1421876763240640513,\n",
      "  'id_str': '1421876763240640513',\n",
      "  'in_reply_to_screen_name': None,\n",
      "  'in_reply_to_status_id': None,\n",
      "  'in_reply_to_status_id_str': None,\n",
      "  'in_reply_to_user_id': None,\n",
      "  'in_reply_to_user_id_str': None,\n",
      "  'is_quote_status': False,\n",
      "  'lang': 'en',\n",
      "  'metadata': {'iso_language_code': 'en', 'result_type': 'recent'},\n",
      "  'place': None,\n",
      "  'retweet_count': 0,\n",
      "  'retweeted': False,\n",
      "  'source': '<a href=\"http://twitter.com/download/iphone\" '\n",
      "            'rel=\"nofollow\">Twitter for iPhone</a>',\n",
      "  'text': '#Olympics I don’t want to take anything away from BMX Cycling but '\n",
      "          'that is literally the same shit I was doing on my… '\n",
      "          'https://t.co/RJo9zFeZiP',\n",
      "  'truncated': True,\n",
      "  'user': {'contributors_enabled': False,\n",
      "           'created_at': 'Sat Aug 10 03:01:14 +0000 2019',\n",
      "           'default_profile': True,\n",
      "           'default_profile_image': False,\n",
      "           'description': 'Following that Cosmic Cowboy tradition',\n",
      "           'entities': {'description': {'urls': []}},\n",
      "           'favourites_count': 38,\n",
      "           'follow_request_sent': None,\n",
      "           'followers_count': 21,\n",
      "           'following': None,\n",
      "           'friends_count': 56,\n",
      "           'geo_enabled': False,\n",
      "           'has_extended_profile': False,\n",
      "           'id': 1160023271770918912,\n",
      "           'id_str': '1160023271770918912',\n",
      "           'is_translation_enabled': False,\n",
      "           'is_translator': False,\n",
      "           'lang': None,\n",
      "           'listed_count': 0,\n",
      "           'location': '',\n",
      "           'name': '👿',\n",
      "           'notifications': None,\n",
      "           'profile_background_color': 'F5F8FA',\n",
      "           'profile_background_image_url': None,\n",
      "           'profile_background_image_url_https': None,\n",
      "           'profile_background_tile': False,\n",
      "           'profile_banner_url': 'https://pbs.twimg.com/profile_banners/1160023271770918912/1567897448',\n",
      "           'profile_image_url': 'http://pbs.twimg.com/profile_images/1175126738956902406/pDprUBxl_normal.jpg',\n",
      "           'profile_image_url_https': 'https://pbs.twimg.com/profile_images/1175126738956902406/pDprUBxl_normal.jpg',\n",
      "           'profile_link_color': '1DA1F2',\n",
      "           'profile_sidebar_border_color': 'C0DEED',\n",
      "           'profile_sidebar_fill_color': 'DDEEF6',\n",
      "           'profile_text_color': '333333',\n",
      "           'profile_use_background_image': True,\n",
      "           'protected': False,\n",
      "           'screen_name': 'BillHur20',\n",
      "           'statuses_count': 4430,\n",
      "           'time_zone': None,\n",
      "           'translator_type': 'none',\n",
      "           'url': None,\n",
      "           'utc_offset': None,\n",
      "           'verified': False,\n",
      "           'withheld_in_countries': []}},\n",
      " {'contributors': None,\n",
      "  'coordinates': None,\n",
      "  'created_at': 'Sun Aug 01 16:53:06 +0000 2021',\n",
      "  'entities': {'hashtags': [{'indices': [25, 34], 'text': 'Olympics'},\n",
      "                            {'indices': [73, 80], 'text': 'TeamGB'}],\n",
      "               'symbols': [],\n",
      "               'urls': [],\n",
      "               'user_mentions': []},\n",
      "  'favorite_count': 0,\n",
      "  'favorited': False,\n",
      "  'geo': None,\n",
      "  'id': 1421876655279202306,\n",
      "  'id_str': '1421876655279202306',\n",
      "  'in_reply_to_screen_name': None,\n",
      "  'in_reply_to_status_id': None,\n",
      "  'in_reply_to_status_id_str': None,\n",
      "  'in_reply_to_user_id': None,\n",
      "  'in_reply_to_user_id_str': None,\n",
      "  'is_quote_status': False,\n",
      "  'lang': 'en',\n",
      "  'metadata': {'iso_language_code': 'en', 'result_type': 'recent'},\n",
      "  'place': None,\n",
      "  'retweet_count': 0,\n",
      "  'retweeted': False,\n",
      "  'source': '<a href=\"https://mobile.twitter.com\" rel=\"nofollow\">Twitter Web '\n",
      "            'App</a>',\n",
      "  'text': 'I am really enjoying the #Olympics and the track cycling starts '\n",
      "          'tomorrow #TeamGB',\n",
      "  'truncated': False,\n",
      "  'user': {'contributors_enabled': False,\n",
      "           'created_at': 'Tue Aug 16 21:18:07 +0000 2011',\n",
      "           'default_profile': True,\n",
      "           'default_profile_image': False,\n",
      "           'description': 'Notts County Fan From Mansfield #T1D and a wanted '\n",
      "                          'fugitive from the spelling police. I am a confirmed '\n",
      "                          'atheist. #VamosOrlando',\n",
      "           'entities': {'description': {'urls': []}},\n",
      "           'favourites_count': 44645,\n",
      "           'follow_request_sent': None,\n",
      "           'followers_count': 551,\n",
      "           'following': None,\n",
      "           'friends_count': 2008,\n",
      "           'geo_enabled': True,\n",
      "           'has_extended_profile': True,\n",
      "           'id': 356439127,\n",
      "           'id_str': '356439127',\n",
      "           'is_translation_enabled': False,\n",
      "           'is_translator': False,\n",
      "           'lang': None,\n",
      "           'listed_count': 6,\n",
      "           'location': '',\n",
      "           'name': 'Paul 💙',\n",
      "           'notifications': None,\n",
      "           'profile_background_color': 'C0DEED',\n",
      "           'profile_background_image_url': 'http://abs.twimg.com/images/themes/theme1/bg.png',\n",
      "           'profile_background_image_url_https': 'https://abs.twimg.com/images/themes/theme1/bg.png',\n",
      "           'profile_background_tile': False,\n",
      "           'profile_banner_url': 'https://pbs.twimg.com/profile_banners/356439127/1623042585',\n",
      "           'profile_image_url': 'http://pbs.twimg.com/profile_images/906443356171010048/mWItXjJb_normal.jpg',\n",
      "           'profile_image_url_https': 'https://pbs.twimg.com/profile_images/906443356171010048/mWItXjJb_normal.jpg',\n",
      "           'profile_link_color': '1DA1F2',\n",
      "           'profile_sidebar_border_color': 'C0DEED',\n",
      "           'profile_sidebar_fill_color': 'DDEEF6',\n",
      "           'profile_text_color': '333333',\n",
      "           'profile_use_background_image': True,\n",
      "           'protected': False,\n",
      "           'screen_name': 'paul_lomas',\n",
      "           'statuses_count': 12658,\n",
      "           'time_zone': None,\n",
      "           'translator_type': 'none',\n",
      "           'url': None,\n",
      "           'utc_offset': None,\n",
      "           'verified': False,\n",
      "           'withheld_in_countries': []}},\n",
      " {'contributors': None,\n",
      "  'coordinates': None,\n",
      "  'created_at': 'Sun Aug 01 16:48:05 +0000 2021',\n",
      "  'entities': {'hashtags': [{'indices': [0, 9], 'text': 'Olympics'},\n",
      "                            {'indices': [10, 19], 'text': 'cyclisme'},\n",
      "                            {'indices': [20, 29], 'text': 'ciclismo'},\n",
      "                            {'indices': [30, 40], 'text': 'Radfahren'},\n",
      "                            {'indices': [41, 52], 'text': 'Wielrennen'},\n",
      "                            {'indices': [53, 66], 'text': 'kolesarjenje'},\n",
      "                            {'indices': [67, 75], 'text': 'sykling'},\n",
      "                            {'indices': [76, 84], 'text': 'cykling'},\n",
      "                            {'indices': [85, 94], 'text': 'pyöräily'},\n",
      "                            {'indices': [95, 106], 'text': 'Колоездене'}],\n",
      "               'symbols': [],\n",
      "               'urls': [{'display_url': 'twitter.com/i/web/status/1…',\n",
      "                         'expanded_url': 'https://twitter.com/i/web/status/1421875393997557762',\n",
      "                         'indices': [108, 131],\n",
      "                         'url': 'https://t.co/KeeJMHiFnE'}],\n",
      "               'user_mentions': []},\n",
      "  'favorite_count': 0,\n",
      "  'favorited': False,\n",
      "  'geo': None,\n",
      "  'id': 1421875393997557762,\n",
      "  'id_str': '1421875393997557762',\n",
      "  'in_reply_to_screen_name': None,\n",
      "  'in_reply_to_status_id': None,\n",
      "  'in_reply_to_status_id_str': None,\n",
      "  'in_reply_to_user_id': None,\n",
      "  'in_reply_to_user_id_str': None,\n",
      "  'is_quote_status': False,\n",
      "  'lang': 'en',\n",
      "  'metadata': {'iso_language_code': 'en', 'result_type': 'recent'},\n",
      "  'place': None,\n",
      "  'possibly_sensitive': False,\n",
      "  'retweet_count': 0,\n",
      "  'retweeted': False,\n",
      "  'source': '<a href=\"https://mobile.twitter.com\" rel=\"nofollow\">Twitter Web '\n",
      "            'App</a>',\n",
      "  'text': '#Olympics #cyclisme #ciclismo #Radfahren #Wielrennen #kolesarjenje '\n",
      "          '#sykling #cykling #pyöräily #Колоездене… https://t.co/KeeJMHiFnE',\n",
      "  'truncated': True,\n",
      "  'user': {'contributors_enabled': False,\n",
      "           'created_at': 'Wed Jul 27 22:09:16 +0000 2011',\n",
      "           'default_profile': True,\n",
      "           'default_profile_image': False,\n",
      "           'description': 'Engineer.\\n'\n",
      "                          'Human Performance Aficionado.\\n'\n",
      "                          'Resourceful.  Goal Oriented.  Focused.\\n'\n",
      "                          'Got Problems?\\n'\n",
      "                          'Got Malfunctions?\\n'\n",
      "                          \"I've Got Solutions.\",\n",
      "           'entities': {'description': {'urls': []},\n",
      "                        'url': {'urls': [{'display_url': 'linkedin.com/in/carlos-g-mo…',\n",
      "                                          'expanded_url': 'http://www.linkedin.com/in/carlos-g-monzon-guzman-b98b29216',\n",
      "                                          'indices': [0, 23],\n",
      "                                          'url': 'https://t.co/RSGpVTCeRe'}]}},\n",
      "           'favourites_count': 175,\n",
      "           'follow_request_sent': None,\n",
      "           'followers_count': 47,\n",
      "           'following': None,\n",
      "           'friends_count': 95,\n",
      "           'geo_enabled': False,\n",
      "           'has_extended_profile': False,\n",
      "           'id': 343659705,\n",
      "           'id_str': '343659705',\n",
      "           'is_translation_enabled': False,\n",
      "           'is_translator': False,\n",
      "           'lang': None,\n",
      "           'listed_count': 1,\n",
      "           'location': '',\n",
      "           'name': 'Carlos G. Monzon-Guzman',\n",
      "           'notifications': None,\n",
      "           'profile_background_color': 'C0DEED',\n",
      "           'profile_background_image_url': 'http://abs.twimg.com/images/themes/theme1/bg.png',\n",
      "           'profile_background_image_url_https': 'https://abs.twimg.com/images/themes/theme1/bg.png',\n",
      "           'profile_background_tile': False,\n",
      "           'profile_banner_url': 'https://pbs.twimg.com/profile_banners/343659705/1626754301',\n",
      "           'profile_image_url': 'http://pbs.twimg.com/profile_images/1418124294434004995/Ha86X2Ct_normal.jpg',\n",
      "           'profile_image_url_https': 'https://pbs.twimg.com/profile_images/1418124294434004995/Ha86X2Ct_normal.jpg',\n",
      "           'profile_link_color': '1DA1F2',\n",
      "           'profile_sidebar_border_color': 'C0DEED',\n",
      "           'profile_sidebar_fill_color': 'DDEEF6',\n",
      "           'profile_text_color': '333333',\n",
      "           'profile_use_background_image': True,\n",
      "           'protected': False,\n",
      "           'screen_name': 'CGMonzonGuzman',\n",
      "           'statuses_count': 1956,\n",
      "           'time_zone': None,\n",
      "           'translator_type': 'none',\n",
      "           'url': 'https://t.co/RSGpVTCeRe',\n",
      "           'utc_offset': None,\n",
      "           'verified': False,\n",
      "           'withheld_in_countries': []}},\n",
      " {'contributors': None,\n",
      "  'coordinates': None,\n",
      "  'created_at': 'Sun Aug 01 16:47:00 +0000 2021',\n",
      "  'entities': {'hashtags': [],\n",
      "               'symbols': [],\n",
      "               'urls': [{'display_url': 'twitter.com/i/web/status/1…',\n",
      "                         'expanded_url': 'https://twitter.com/i/web/status/1421875119232884739',\n",
      "                         'indices': [121, 144],\n",
      "                         'url': 'https://t.co/Ob4lasATlx'}],\n",
      "               'user_mentions': []},\n",
      "  'favorite_count': 0,\n",
      "  'favorited': False,\n",
      "  'geo': None,\n",
      "  'id': 1421875119232884739,\n",
      "  'id_str': '1421875119232884739',\n",
      "  'in_reply_to_screen_name': None,\n",
      "  'in_reply_to_status_id': None,\n",
      "  'in_reply_to_status_id_str': None,\n",
      "  'in_reply_to_user_id': None,\n",
      "  'in_reply_to_user_id_str': None,\n",
      "  'is_quote_status': False,\n",
      "  'lang': 'en',\n",
      "  'metadata': {'iso_language_code': 'en', 'result_type': 'recent'},\n",
      "  'place': None,\n",
      "  'possibly_sensitive': False,\n",
      "  'retweet_count': 0,\n",
      "  'retweeted': False,\n",
      "  'source': '<a href=\"https://mobile.twitter.com\" rel=\"nofollow\">Twitter Web '\n",
      "            'App</a>',\n",
      "  'text': 'Track Cycling Team Pursuit kicks off @ 2:30am EST [2nd August] for '\n",
      "          \"🇨🇦 Women's &amp; Men's Pursuit Teams in Tokyo - here… \"\n",
      "          'https://t.co/Ob4lasATlx',\n",
      "  'truncated': True,\n",
      "  'user': {'contributors_enabled': False,\n",
      "           'created_at': 'Sun Apr 22 21:47:40 +0000 2018',\n",
      "           'default_profile': True,\n",
      "           'default_profile_image': False,\n",
      "           'description': '🏋️\\u200d♂️ Online & Direct Strength & Conditioning '\n",
      "                          '📊 Sport Science Consultancy 💻 '\n",
      "                          'https://t.co/LUy3FWMxBF 📧coach@athletesxcel.com '\n",
      "                          'Owners: @coachkp10 & @s27mcm',\n",
      "           'entities': {'description': {'urls': [{'display_url': 'athletesxcel.com',\n",
      "                                                  'expanded_url': 'http://www.athletesxcel.com',\n",
      "                                                  'indices': [76, 99],\n",
      "                                                  'url': 'https://t.co/LUy3FWMxBF'}]}},\n",
      "           'favourites_count': 92,\n",
      "           'follow_request_sent': None,\n",
      "           'followers_count': 47,\n",
      "           'following': None,\n",
      "           'friends_count': 228,\n",
      "           'geo_enabled': True,\n",
      "           'has_extended_profile': False,\n",
      "           'id': 988172511023017985,\n",
      "           'id_str': '988172511023017985',\n",
      "           'is_translation_enabled': False,\n",
      "           'is_translator': False,\n",
      "           'lang': None,\n",
      "           'listed_count': 0,\n",
      "           'location': '',\n",
      "           'name': 'Athletes Xcel',\n",
      "           'notifications': None,\n",
      "           'profile_background_color': 'F5F8FA',\n",
      "           'profile_background_image_url': None,\n",
      "           'profile_background_image_url_https': None,\n",
      "           'profile_background_tile': False,\n",
      "           'profile_banner_url': 'https://pbs.twimg.com/profile_banners/988172511023017985/1598038313',\n",
      "           'profile_image_url': 'http://pbs.twimg.com/profile_images/988176583495069696/b-zvjbSd_normal.jpg',\n",
      "           'profile_image_url_https': 'https://pbs.twimg.com/profile_images/988176583495069696/b-zvjbSd_normal.jpg',\n",
      "           'profile_link_color': '1DA1F2',\n",
      "           'profile_sidebar_border_color': 'C0DEED',\n",
      "           'profile_sidebar_fill_color': 'DDEEF6',\n",
      "           'profile_text_color': '333333',\n",
      "           'profile_use_background_image': True,\n",
      "           'protected': False,\n",
      "           'screen_name': 'AthletesXcel',\n",
      "           'statuses_count': 87,\n",
      "           'time_zone': None,\n",
      "           'translator_type': 'none',\n",
      "           'url': None,\n",
      "           'utc_offset': None,\n",
      "           'verified': False,\n",
      "           'withheld_in_countries': []}}]\n"
     ]
    }
   ],
   "metadata": {}
  },
  {
   "cell_type": "code",
   "execution_count": 26,
   "source": [
    "for status in tweets[0:max_tweet_to_print]:\n",
    "    print(status['text'] + '\\n')"
   ],
   "outputs": [
    {
     "output_type": "stream",
     "name": "stdout",
     "text": [
      "#Olympics I don’t want to take anything away from BMX Cycling but that is literally the same shit I was doing on my… https://t.co/RJo9zFeZiP\n",
      "\n",
      "I am really enjoying the #Olympics and the track cycling starts tomorrow #TeamGB\n",
      "\n",
      "#Olympics #cyclisme #ciclismo #Radfahren #Wielrennen #kolesarjenje #sykling #cykling #pyöräily #Колоездене… https://t.co/KeeJMHiFnE\n",
      "\n",
      "Track Cycling Team Pursuit kicks off @ 2:30am EST [2nd August] for 🇨🇦 Women's &amp; Men's Pursuit Teams in Tokyo - here… https://t.co/Ob4lasATlx\n",
      "\n"
     ]
    }
   ],
   "metadata": {}
  },
  {
   "cell_type": "markdown",
   "source": [
    "# Start creating a data frame"
   ],
   "metadata": {}
  },
  {
   "cell_type": "code",
   "execution_count": 28,
   "source": [
    "import pandas as pd"
   ],
   "outputs": [],
   "metadata": {}
  },
  {
   "cell_type": "code",
   "execution_count": 29,
   "source": [
    "def tweet_generator(tweets):\n",
    "    for tweet in tweets:\n",
    "        modified_tweet= {}\n",
    "        \n",
    "        modified_tweet['user_id']=tweet['user']['id']\n",
    "        if 'retweeted_status' in tweet:\n",
    "            modified_tweet['retweeted_status_id']=tweet['retweeted_status']['id']\n",
    "        else:\n",
    "            pass\n",
    "        for i in tweet:\n",
    "            if i=='retweeted_status' or i=='user':\n",
    "                pass\n",
    "            else:\n",
    "                modified_tweet[i]=tweet[i]\n",
    "        \n",
    "        yield modified_tweet  "
   ],
   "outputs": [],
   "metadata": {}
  },
  {
   "cell_type": "code",
   "execution_count": 30,
   "source": [
    "olympic_cycling_df = pd.DataFrame(tweet_generator(tweets))"
   ],
   "outputs": [],
   "metadata": {}
  },
  {
   "cell_type": "code",
   "execution_count": 33,
   "source": [
    "olympic_cycling_df.to_pickle(\"../data/olympic_cycling_df\")"
   ],
   "outputs": [],
   "metadata": {}
  },
  {
   "cell_type": "markdown",
   "source": [
    "# Check Data Types and Fix Em Up"
   ],
   "metadata": {}
  },
  {
   "cell_type": "code",
   "execution_count": 32,
   "source": [
    "olympic_cycling_df.dtypes"
   ],
   "outputs": [
    {
     "output_type": "execute_result",
     "data": {
      "text/plain": [
       "user_id                        int64\n",
       "created_at                    object\n",
       "id                             int64\n",
       "id_str                        object\n",
       "text                          object\n",
       "truncated                       bool\n",
       "entities                      object\n",
       "metadata                      object\n",
       "source                        object\n",
       "in_reply_to_status_id        float64\n",
       "in_reply_to_status_id_str     object\n",
       "in_reply_to_user_id          float64\n",
       "in_reply_to_user_id_str       object\n",
       "in_reply_to_screen_name       object\n",
       "geo                           object\n",
       "coordinates                   object\n",
       "place                         object\n",
       "contributors                  object\n",
       "is_quote_status                 bool\n",
       "retweet_count                  int64\n",
       "favorite_count                 int64\n",
       "favorited                       bool\n",
       "retweeted                       bool\n",
       "lang                          object\n",
       "possibly_sensitive            object\n",
       "retweeted_status_id          float64\n",
       "extended_entities             object\n",
       "quoted_status_id             float64\n",
       "quoted_status_id_str          object\n",
       "quoted_status                 object\n",
       "withheld_in_countries         object\n",
       "dtype: object"
      ]
     },
     "metadata": {},
     "execution_count": 32
    }
   ],
   "metadata": {}
  },
  {
   "cell_type": "code",
   "execution_count": null,
   "source": [],
   "outputs": [],
   "metadata": {}
  },
  {
   "cell_type": "code",
   "execution_count": null,
   "source": [],
   "outputs": [],
   "metadata": {}
  },
  {
   "cell_type": "markdown",
   "source": [
    "# Get replies to tweets:\n",
    "This link should help with understanding and going through this process:\n",
    "https://towardsdatascience.com/scraping-specific-tweet-replies-with-python-3143c5214341"
   ],
   "metadata": {}
  },
  {
   "cell_type": "code",
   "execution_count": null,
   "source": [],
   "outputs": [],
   "metadata": {}
  },
  {
   "cell_type": "code",
   "execution_count": null,
   "source": [],
   "outputs": [],
   "metadata": {}
  }
 ],
 "metadata": {
  "kernelspec": {
   "display_name": "Python 3",
   "language": "python",
   "name": "python3"
  },
  "language_info": {
   "codemirror_mode": {
    "name": "ipython",
    "version": 3
   },
   "file_extension": ".py",
   "mimetype": "text/x-python",
   "name": "python",
   "nbconvert_exporter": "python",
   "pygments_lexer": "ipython3",
   "version": "3.8.5"
  }
 },
 "nbformat": 4,
 "nbformat_minor": 4
}