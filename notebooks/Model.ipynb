{
 "cells": [
  {
   "cell_type": "markdown",
   "source": [
    "# Section 4: Model Creation\n",
    "\n",
    "- [Section 4.1: Model](#model)"
   ],
   "metadata": {}
  },
  {
   "cell_type": "markdown",
   "source": [
    "## Section 4.1: Model <a class=\"anchor\" id=\"model\"></a>\n",
    "\n",
    "- TextBlob, vader model and justification\n",
    "\t- VADER (Valence Aware Dictionary and sEntiment Reasoner) is a lexicon and rule-based sentiment analysis tool that is specifically attuned to sentiments expressed in social media. \n",
    "\t- TextBlob\n",
    "- sentiment modelling & code\n",
    "- explanation of features\n",
    "\t- TextBlob\n",
    "\t\t- Polarity is a float that lies between [-1,1], -1 indicates negative sentiment and +1 indicates positive sentiments.\n",
    "   \t\t- Subjectivity is also a float that lies in the range of [0,1]. Subjective sentences generally refer to opinion, emotion, or judgment.\n",
    "\t- Vader\n",
    "\n"
   ],
   "metadata": {}
  },
  {
   "cell_type": "code",
   "execution_count": null,
   "source": [
    "import pandas as pd\n",
    "\n",
    "from nltk.sentiment.vader import SentimentIntensityAnalyzer\n",
    "from nltk.stem import WordNetLemmatizer\n",
    "from textblob import TextBlob"
   ],
   "outputs": [],
   "metadata": {}
  },
  {
   "cell_type": "code",
   "execution_count": null,
   "source": [
    "# Read data from pkl"
   ],
   "outputs": [],
   "metadata": {}
  },
  {
   "cell_type": "code",
   "execution_count": null,
   "source": [
    "#Calculating Negative, Positive, Neutral and Compound values\n",
    "olympic_df[['polarity', 'subjectivity']] = olympic_df['text'].apply(lambda text: pd.Series(TextBlob(text).sentiment))\n",
    "\n",
    "for index, row in olympic_df['clean_no_stops'].iteritems():\n",
    "\tscore = SentimentIntensityAnalyzer().polarity_scores(' '.join(row))\n",
    "\tneg = score['neg']\n",
    "\tneu = score['neu']\n",
    "\tpos = score['pos']\n",
    "\tcomp = score['compound']\n",
    "\n",
    "\tif neg > pos:\n",
    "\t\tolympic_df.loc[index, 'sentiment'] = 'negative'\n",
    "\telif pos > neg:\n",
    "\t\tolympic_df.loc[index, 'sentiment'] = 'positive'\n",
    "\telse:\n",
    "\t\tolympic_df.loc[index, 'sentiment'] = 'neutral'\n",
    "\t# # Set the values as columns\n",
    "\tolympic_df.loc[index, 'neg'] = neg\n",
    "\tolympic_df.loc[index, 'neu'] = neu\n",
    "\tolympic_df.loc[index, 'pos'] = pos\n",
    "\tolympic_df.loc[index, 'compound'] = comp\n",
    "\n",
    "olympic_df.head(10)"
   ],
   "outputs": [],
   "metadata": {}
  },
  {
   "cell_type": "code",
   "execution_count": null,
   "source": [
    "wn_lemmatizer = WordNetLemmatizer()\n",
    "\n",
    "olympic_df['lemma_text'] = olympic_df.clean_no_stops.apply(lambda text: [ wn_lemmatizer.lemmatize(word, pos='v') for word in text ])\n",
    "olympic_df.sample(5)"
   ],
   "outputs": [],
   "metadata": {}
  },
  {
   "cell_type": "markdown",
   "source": [
    "<div class=\"container\">\n",
    "   <div style=\"float:left;width:20%\"><a href=\"./Cleaning.ipynb\"><< Section 3: Data Cleaning</a></div>\n",
    "   <div style=\"float:right;width:25%\"><a href=\"./Eval.ipynb\">Section 5: Evaluation and Conclusions >></a></div>\n",
    "   <div style=\"float:right;width:35%\"><a href=\"../main.md\">Table of Contents</a></div>\n",
    "</div>"
   ],
   "metadata": {}
  }
 ],
 "metadata": {
  "kernelspec": {
   "name": "python3",
   "display_name": "Python 3.9.6 64-bit ('DSFinal': conda)"
  },
  "language_info": {
   "codemirror_mode": {
    "name": "ipython",
    "version": 3
   },
   "file_extension": ".py",
   "mimetype": "text/x-python",
   "name": "python",
   "nbconvert_exporter": "python",
   "pygments_lexer": "ipython3",
   "version": "3.9.6"
  },
  "interpreter": {
   "hash": "17c2d29f20849e0234e28d332614864f502d155aa05f82293e2dffbbaf220632"
  }
 },
 "nbformat": 4,
 "nbformat_minor": 4
}