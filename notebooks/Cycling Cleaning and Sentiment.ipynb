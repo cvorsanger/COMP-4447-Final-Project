{
 "cells": [
  {
   "cell_type": "markdown",
   "metadata": {},
   "source": [
    "# Create Dataframes"
   ]
  },
  {
   "cell_type": "code",
   "execution_count": 2,
   "metadata": {},
   "outputs": [],
   "source": [
    "import base64\n",
    "import datetime\n",
    "import json\n",
    "import pandas as pd\n",
    "import pickle\n",
    "import pprint\n",
    "import numpy as np\n",
    "import requests\n",
    "import time"
   ]
  },
  {
   "cell_type": "code",
   "execution_count": 84,
   "metadata": {},
   "outputs": [],
   "source": [
    "olympic_cycling = pd.read_pickle(\"olympic_cycling.pkl\")\n",
    "olympic_gynmastics_replies=pd.read_pickle(\"olympic_gynmastics_replies.pkl\")"
   ]
  },
  {
   "cell_type": "code",
   "execution_count": 85,
   "metadata": {},
   "outputs": [
    {
     "data": {
      "text/html": [
       "<div>\n",
       "<style scoped>\n",
       "    .dataframe tbody tr th:only-of-type {\n",
       "        vertical-align: middle;\n",
       "    }\n",
       "\n",
       "    .dataframe tbody tr th {\n",
       "        vertical-align: top;\n",
       "    }\n",
       "\n",
       "    .dataframe thead th {\n",
       "        text-align: right;\n",
       "    }\n",
       "</style>\n",
       "<table border=\"1\" class=\"dataframe\">\n",
       "  <thead>\n",
       "    <tr style=\"text-align: right;\">\n",
       "      <th></th>\n",
       "      <th>id</th>\n",
       "      <th>created_at</th>\n",
       "      <th>conversation_id</th>\n",
       "      <th>text</th>\n",
       "      <th>source</th>\n",
       "      <th>lang</th>\n",
       "      <th>referenced_tweets</th>\n",
       "      <th>withheld</th>\n",
       "    </tr>\n",
       "  </thead>\n",
       "  <tbody>\n",
       "    <tr>\n",
       "      <th>0</th>\n",
       "      <td>1424536982101790729</td>\n",
       "      <td>2021-08-09T01:04:17.000Z</td>\n",
       "      <td>1424536982101790729</td>\n",
       "      <td>The demise of British cycling has been greatly...</td>\n",
       "      <td>Twitter for iPhone</td>\n",
       "      <td>en</td>\n",
       "      <td>NaN</td>\n",
       "      <td>NaN</td>\n",
       "    </tr>\n",
       "    <tr>\n",
       "      <th>1</th>\n",
       "      <td>1424530437586571270</td>\n",
       "      <td>2021-08-09T00:38:17.000Z</td>\n",
       "      <td>1424530437586571270</td>\n",
       "      <td>#NSTsports GOLD may have slipped through their...</td>\n",
       "      <td>Twitter Web App</td>\n",
       "      <td>en</td>\n",
       "      <td>NaN</td>\n",
       "      <td>NaN</td>\n",
       "    </tr>\n",
       "    <tr>\n",
       "      <th>2</th>\n",
       "      <td>1424530087320461312</td>\n",
       "      <td>2021-08-09T00:36:53.000Z</td>\n",
       "      <td>1424529490466820102</td>\n",
       "      <td>3/  RBC Training Ground graduate Kelsey Mitche...</td>\n",
       "      <td>Twitter Web App</td>\n",
       "      <td>en</td>\n",
       "      <td>[{'type': 'replied_to', 'id': '142452979036789...</td>\n",
       "      <td>NaN</td>\n",
       "    </tr>\n",
       "    <tr>\n",
       "      <th>3</th>\n",
       "      <td>1424529959272415237</td>\n",
       "      <td>2021-08-09T00:36:23.000Z</td>\n",
       "      <td>1424529959272415237</td>\n",
       "      <td>#NSTsports SHAH Firdaus Sahrom admitted that w...</td>\n",
       "      <td>Twitter Web App</td>\n",
       "      <td>en</td>\n",
       "      <td>NaN</td>\n",
       "      <td>NaN</td>\n",
       "    </tr>\n",
       "    <tr>\n",
       "      <th>4</th>\n",
       "      <td>1424524357729144832</td>\n",
       "      <td>2021-08-09T00:14:07.000Z</td>\n",
       "      <td>1424524357729144832</td>\n",
       "      <td>Great Britain tops #Tokyo2020 #Olympics cyclin...</td>\n",
       "      <td>SocialFlow</td>\n",
       "      <td>en</td>\n",
       "      <td>NaN</td>\n",
       "      <td>NaN</td>\n",
       "    </tr>\n",
       "  </tbody>\n",
       "</table>\n",
       "</div>"
      ],
      "text/plain": [
       "                    id                created_at      conversation_id                                               text              source lang                                  referenced_tweets withheld\n",
       "0  1424536982101790729  2021-08-09T01:04:17.000Z  1424536982101790729  The demise of British cycling has been greatly...  Twitter for iPhone   en                                                NaN      NaN\n",
       "1  1424530437586571270  2021-08-09T00:38:17.000Z  1424530437586571270  #NSTsports GOLD may have slipped through their...     Twitter Web App   en                                                NaN      NaN\n",
       "2  1424530087320461312  2021-08-09T00:36:53.000Z  1424529490466820102  3/  RBC Training Ground graduate Kelsey Mitche...     Twitter Web App   en  [{'type': 'replied_to', 'id': '142452979036789...      NaN\n",
       "3  1424529959272415237  2021-08-09T00:36:23.000Z  1424529959272415237  #NSTsports SHAH Firdaus Sahrom admitted that w...     Twitter Web App   en                                                NaN      NaN\n",
       "4  1424524357729144832  2021-08-09T00:14:07.000Z  1424524357729144832  Great Britain tops #Tokyo2020 #Olympics cyclin...          SocialFlow   en                                                NaN      NaN"
      ]
     },
     "execution_count": 85,
     "metadata": {},
     "output_type": "execute_result"
    }
   ],
   "source": [
    "pd.set_option('expand_frame_repr', False)\n",
    "original_tweets_df = pd.DataFrame(olympic_cycling)\n",
    "original_tweets_df.head(5)"
   ]
  },
  {
   "cell_type": "code",
   "execution_count": 86,
   "metadata": {},
   "outputs": [
    {
     "data": {
      "text/html": [
       "<div>\n",
       "<style scoped>\n",
       "    .dataframe tbody tr th:only-of-type {\n",
       "        vertical-align: middle;\n",
       "    }\n",
       "\n",
       "    .dataframe tbody tr th {\n",
       "        vertical-align: top;\n",
       "    }\n",
       "\n",
       "    .dataframe thead th {\n",
       "        text-align: right;\n",
       "    }\n",
       "</style>\n",
       "<table border=\"1\" class=\"dataframe\">\n",
       "  <thead>\n",
       "    <tr style=\"text-align: right;\">\n",
       "      <th></th>\n",
       "      <th>referenced_tweets</th>\n",
       "      <th>source</th>\n",
       "      <th>created_at</th>\n",
       "      <th>id</th>\n",
       "      <th>lang</th>\n",
       "      <th>text</th>\n",
       "      <th>conversation_id</th>\n",
       "    </tr>\n",
       "  </thead>\n",
       "  <tbody>\n",
       "    <tr>\n",
       "      <th>0</th>\n",
       "      <td>[{'type': 'replied_to', 'id': '142452979036789...</td>\n",
       "      <td>Twitter Web App</td>\n",
       "      <td>2021-08-09T00:36:53.000Z</td>\n",
       "      <td>1424530087320461312</td>\n",
       "      <td>en</td>\n",
       "      <td>3/  RBC Training Ground graduate Kelsey Mitche...</td>\n",
       "      <td>1424529490466820102</td>\n",
       "    </tr>\n",
       "    <tr>\n",
       "      <th>1</th>\n",
       "      <td>[{'type': 'replied_to', 'id': '142452949046682...</td>\n",
       "      <td>Twitter Web App</td>\n",
       "      <td>2021-08-09T00:35:43.000Z</td>\n",
       "      <td>1424529790367895553</td>\n",
       "      <td>en</td>\n",
       "      <td>2/  RBC Training Ground graduate Avalon Wasten...</td>\n",
       "      <td>1424529490466820102</td>\n",
       "    </tr>\n",
       "    <tr>\n",
       "      <th>2</th>\n",
       "      <td>[{'type': 'replied_to', 'id': '142452979036789...</td>\n",
       "      <td>Twitter Web App</td>\n",
       "      <td>2021-08-09T00:36:53.000Z</td>\n",
       "      <td>1424530087320461312</td>\n",
       "      <td>en</td>\n",
       "      <td>3/  RBC Training Ground graduate Kelsey Mitche...</td>\n",
       "      <td>1424529490466820102</td>\n",
       "    </tr>\n",
       "    <tr>\n",
       "      <th>3</th>\n",
       "      <td>[{'type': 'replied_to', 'id': '142452949046682...</td>\n",
       "      <td>Twitter Web App</td>\n",
       "      <td>2021-08-09T00:35:43.000Z</td>\n",
       "      <td>1424529790367895553</td>\n",
       "      <td>en</td>\n",
       "      <td>2/  RBC Training Ground graduate Avalon Wasten...</td>\n",
       "      <td>1424529490466820102</td>\n",
       "    </tr>\n",
       "    <tr>\n",
       "      <th>4</th>\n",
       "      <td>[{'type': 'replied_to', 'id': '142452979036789...</td>\n",
       "      <td>Twitter Web App</td>\n",
       "      <td>2021-08-09T00:36:53.000Z</td>\n",
       "      <td>1424530087320461312</td>\n",
       "      <td>en</td>\n",
       "      <td>3/  RBC Training Ground graduate Kelsey Mitche...</td>\n",
       "      <td>1424529490466820102</td>\n",
       "    </tr>\n",
       "  </tbody>\n",
       "</table>\n",
       "</div>"
      ],
      "text/plain": [
       "                                   referenced_tweets           source                created_at                   id lang                                               text      conversation_id\n",
       "0  [{'type': 'replied_to', 'id': '142452979036789...  Twitter Web App  2021-08-09T00:36:53.000Z  1424530087320461312   en  3/  RBC Training Ground graduate Kelsey Mitche...  1424529490466820102\n",
       "1  [{'type': 'replied_to', 'id': '142452949046682...  Twitter Web App  2021-08-09T00:35:43.000Z  1424529790367895553   en  2/  RBC Training Ground graduate Avalon Wasten...  1424529490466820102\n",
       "2  [{'type': 'replied_to', 'id': '142452979036789...  Twitter Web App  2021-08-09T00:36:53.000Z  1424530087320461312   en  3/  RBC Training Ground graduate Kelsey Mitche...  1424529490466820102\n",
       "3  [{'type': 'replied_to', 'id': '142452949046682...  Twitter Web App  2021-08-09T00:35:43.000Z  1424529790367895553   en  2/  RBC Training Ground graduate Avalon Wasten...  1424529490466820102\n",
       "4  [{'type': 'replied_to', 'id': '142452979036789...  Twitter Web App  2021-08-09T00:36:53.000Z  1424530087320461312   en  3/  RBC Training Ground graduate Kelsey Mitche...  1424529490466820102"
      ]
     },
     "execution_count": 86,
     "metadata": {},
     "output_type": "execute_result"
    }
   ],
   "source": [
    "response_tweet_df = pd.DataFrame(olympic_gynmastics_replies)\n",
    "response_tweet_df.head(5)"
   ]
  },
  {
   "cell_type": "markdown",
   "metadata": {},
   "source": [
    "# Convert Data Types"
   ]
  },
  {
   "cell_type": "code",
   "execution_count": 87,
   "metadata": {},
   "outputs": [
    {
     "data": {
      "text/plain": [
       "id                   object\n",
       "created_at           object\n",
       "conversation_id      object\n",
       "text                 object\n",
       "source               object\n",
       "lang                 object\n",
       "referenced_tweets    object\n",
       "withheld             object\n",
       "dtype: object"
      ]
     },
     "execution_count": 87,
     "metadata": {},
     "output_type": "execute_result"
    }
   ],
   "source": [
    "original_tweets_df.dtypes"
   ]
  },
  {
   "cell_type": "code",
   "execution_count": 88,
   "metadata": {},
   "outputs": [
    {
     "data": {
      "text/plain": [
       "referenced_tweets    object\n",
       "source               object\n",
       "created_at           object\n",
       "id                   object\n",
       "lang                 object\n",
       "text                 object\n",
       "conversation_id      object\n",
       "dtype: object"
      ]
     },
     "execution_count": 88,
     "metadata": {},
     "output_type": "execute_result"
    }
   ],
   "source": [
    "response_tweet_df.dtypes"
   ]
  },
  {
   "cell_type": "code",
   "execution_count": 89,
   "metadata": {},
   "outputs": [],
   "source": [
    "original_tweets_df=original_tweets_df.astype({'conversation_id':'int64','id':'int64'})\n",
    "response_tweet_df=response_tweet_df.astype({'conversation_id':'int64','id':'int64'})\n",
    "\n",
    "original_tweets_df['created_at'] = pd.to_datetime(original_tweets_df['created_at'])\n",
    "response_tweet_df['created_at'] = pd.to_datetime(response_tweet_df['created_at'])"
   ]
  },
  {
   "cell_type": "code",
   "execution_count": 90,
   "metadata": {},
   "outputs": [
    {
     "data": {
      "text/plain": [
       "id                                 int64\n",
       "created_at           datetime64[ns, UTC]\n",
       "conversation_id                    int64\n",
       "text                              object\n",
       "source                            object\n",
       "lang                              object\n",
       "referenced_tweets                 object\n",
       "withheld                          object\n",
       "dtype: object"
      ]
     },
     "execution_count": 90,
     "metadata": {},
     "output_type": "execute_result"
    }
   ],
   "source": [
    "original_tweets_df.dtypes"
   ]
  },
  {
   "cell_type": "code",
   "execution_count": 91,
   "metadata": {},
   "outputs": [
    {
     "data": {
      "text/plain": [
       "referenced_tweets                 object\n",
       "source                            object\n",
       "created_at           datetime64[ns, UTC]\n",
       "id                                 int64\n",
       "lang                              object\n",
       "text                              object\n",
       "conversation_id                    int64\n",
       "dtype: object"
      ]
     },
     "execution_count": 91,
     "metadata": {},
     "output_type": "execute_result"
    }
   ],
   "source": [
    "response_tweet_df.dtypes"
   ]
  },
  {
   "cell_type": "markdown",
   "metadata": {},
   "source": [
    "Object types are already strings so no need to convert them."
   ]
  },
  {
   "cell_type": "markdown",
   "metadata": {},
   "source": [
    "# Handle None Values"
   ]
  },
  {
   "cell_type": "code",
   "execution_count": 92,
   "metadata": {},
   "outputs": [
    {
     "name": "stdout",
     "output_type": "stream",
     "text": [
      "4218\n",
      "693\n"
     ]
    }
   ],
   "source": [
    "original_tweets_df = original_tweets_df.fillna(value=np.nan)\n",
    "response_tweet_df = response_tweet_df.fillna(value=np.nan)\n",
    "print(len(original_tweets_df))\n",
    "print(len(response_tweet_df))"
   ]
  },
  {
   "cell_type": "markdown",
   "metadata": {},
   "source": [
    "# Clean text\n",
    "Lets start by showing what we're working with again after creating a new column for our clean text."
   ]
  },
  {
   "cell_type": "code",
   "execution_count": 109,
   "metadata": {},
   "outputs": [
    {
     "data": {
      "text/html": [
       "<div>\n",
       "<style scoped>\n",
       "    .dataframe tbody tr th:only-of-type {\n",
       "        vertical-align: middle;\n",
       "    }\n",
       "\n",
       "    .dataframe tbody tr th {\n",
       "        vertical-align: top;\n",
       "    }\n",
       "\n",
       "    .dataframe thead th {\n",
       "        text-align: right;\n",
       "    }\n",
       "</style>\n",
       "<table border=\"1\" class=\"dataframe\">\n",
       "  <thead>\n",
       "    <tr style=\"text-align: right;\">\n",
       "      <th></th>\n",
       "      <th>id</th>\n",
       "      <th>created_at</th>\n",
       "      <th>conversation_id</th>\n",
       "      <th>text</th>\n",
       "      <th>source</th>\n",
       "      <th>lang</th>\n",
       "      <th>referenced_tweets</th>\n",
       "      <th>withheld</th>\n",
       "      <th>clean_text</th>\n",
       "    </tr>\n",
       "  </thead>\n",
       "  <tbody>\n",
       "    <tr>\n",
       "      <th>0</th>\n",
       "      <td>1424536982101790729</td>\n",
       "      <td>2021-08-09 01:04:17+00:00</td>\n",
       "      <td>1424536982101790729</td>\n",
       "      <td>The demise of British cycling has been greatly...</td>\n",
       "      <td>Twitter for iPhone</td>\n",
       "      <td>en</td>\n",
       "      <td>NaN</td>\n",
       "      <td>NaN</td>\n",
       "      <td>The demise of British cycling has been greatly...</td>\n",
       "    </tr>\n",
       "    <tr>\n",
       "      <th>1</th>\n",
       "      <td>1424530437586571270</td>\n",
       "      <td>2021-08-09 00:38:17+00:00</td>\n",
       "      <td>1424530437586571270</td>\n",
       "      <td>#NSTsports GOLD may have slipped through their...</td>\n",
       "      <td>Twitter Web App</td>\n",
       "      <td>en</td>\n",
       "      <td>NaN</td>\n",
       "      <td>NaN</td>\n",
       "      <td>#NSTsports GOLD may have slipped through their...</td>\n",
       "    </tr>\n",
       "    <tr>\n",
       "      <th>2</th>\n",
       "      <td>1424530087320461312</td>\n",
       "      <td>2021-08-09 00:36:53+00:00</td>\n",
       "      <td>1424529490466820102</td>\n",
       "      <td>3/  RBC Training Ground graduate Kelsey Mitche...</td>\n",
       "      <td>Twitter Web App</td>\n",
       "      <td>en</td>\n",
       "      <td>[{'type': 'replied_to', 'id': '142452979036789...</td>\n",
       "      <td>NaN</td>\n",
       "      <td>3/  RBC Training Ground graduate Kelsey Mitche...</td>\n",
       "    </tr>\n",
       "    <tr>\n",
       "      <th>3</th>\n",
       "      <td>1424529959272415237</td>\n",
       "      <td>2021-08-09 00:36:23+00:00</td>\n",
       "      <td>1424529959272415237</td>\n",
       "      <td>#NSTsports SHAH Firdaus Sahrom admitted that w...</td>\n",
       "      <td>Twitter Web App</td>\n",
       "      <td>en</td>\n",
       "      <td>NaN</td>\n",
       "      <td>NaN</td>\n",
       "      <td>#NSTsports SHAH Firdaus Sahrom admitted that w...</td>\n",
       "    </tr>\n",
       "    <tr>\n",
       "      <th>4</th>\n",
       "      <td>1424524357729144832</td>\n",
       "      <td>2021-08-09 00:14:07+00:00</td>\n",
       "      <td>1424524357729144832</td>\n",
       "      <td>Great Britain tops #Tokyo2020 #Olympics cyclin...</td>\n",
       "      <td>SocialFlow</td>\n",
       "      <td>en</td>\n",
       "      <td>NaN</td>\n",
       "      <td>NaN</td>\n",
       "      <td>Great Britain tops #Tokyo2020 #Olympics cyclin...</td>\n",
       "    </tr>\n",
       "  </tbody>\n",
       "</table>\n",
       "</div>"
      ],
      "text/plain": [
       "                    id                created_at      conversation_id                                               text              source lang                                  referenced_tweets withheld                                         clean_text\n",
       "0  1424536982101790729 2021-08-09 01:04:17+00:00  1424536982101790729  The demise of British cycling has been greatly...  Twitter for iPhone   en                                                NaN      NaN  The demise of British cycling has been greatly...\n",
       "1  1424530437586571270 2021-08-09 00:38:17+00:00  1424530437586571270  #NSTsports GOLD may have slipped through their...     Twitter Web App   en                                                NaN      NaN  #NSTsports GOLD may have slipped through their...\n",
       "2  1424530087320461312 2021-08-09 00:36:53+00:00  1424529490466820102  3/  RBC Training Ground graduate Kelsey Mitche...     Twitter Web App   en  [{'type': 'replied_to', 'id': '142452979036789...      NaN  3/  RBC Training Ground graduate Kelsey Mitche...\n",
       "3  1424529959272415237 2021-08-09 00:36:23+00:00  1424529959272415237  #NSTsports SHAH Firdaus Sahrom admitted that w...     Twitter Web App   en                                                NaN      NaN  #NSTsports SHAH Firdaus Sahrom admitted that w...\n",
       "4  1424524357729144832 2021-08-09 00:14:07+00:00  1424524357729144832  Great Britain tops #Tokyo2020 #Olympics cyclin...          SocialFlow   en                                                NaN      NaN  Great Britain tops #Tokyo2020 #Olympics cyclin..."
      ]
     },
     "execution_count": 109,
     "metadata": {},
     "output_type": "execute_result"
    }
   ],
   "source": [
    "original_tweets_df['clean_text']=original_tweets_df['text']\n",
    "original_tweets_df.head(5)"
   ]
  },
  {
   "cell_type": "code",
   "execution_count": 110,
   "metadata": {},
   "outputs": [
    {
     "data": {
      "text/html": [
       "<div>\n",
       "<style scoped>\n",
       "    .dataframe tbody tr th:only-of-type {\n",
       "        vertical-align: middle;\n",
       "    }\n",
       "\n",
       "    .dataframe tbody tr th {\n",
       "        vertical-align: top;\n",
       "    }\n",
       "\n",
       "    .dataframe thead th {\n",
       "        text-align: right;\n",
       "    }\n",
       "</style>\n",
       "<table border=\"1\" class=\"dataframe\">\n",
       "  <thead>\n",
       "    <tr style=\"text-align: right;\">\n",
       "      <th></th>\n",
       "      <th>referenced_tweets</th>\n",
       "      <th>source</th>\n",
       "      <th>created_at</th>\n",
       "      <th>id</th>\n",
       "      <th>lang</th>\n",
       "      <th>text</th>\n",
       "      <th>conversation_id</th>\n",
       "      <th>clean_text</th>\n",
       "    </tr>\n",
       "  </thead>\n",
       "  <tbody>\n",
       "    <tr>\n",
       "      <th>0</th>\n",
       "      <td>[{'type': 'replied_to', 'id': '142452979036789...</td>\n",
       "      <td>Twitter Web App</td>\n",
       "      <td>2021-08-09 00:36:53+00:00</td>\n",
       "      <td>1424530087320461312</td>\n",
       "      <td>en</td>\n",
       "      <td>3/  RBC Training Ground graduate Kelsey Mitche...</td>\n",
       "      <td>1424529490466820102</td>\n",
       "      <td>3/  RBC Training Ground graduate Kelsey Mitche...</td>\n",
       "    </tr>\n",
       "    <tr>\n",
       "      <th>1</th>\n",
       "      <td>[{'type': 'replied_to', 'id': '142452949046682...</td>\n",
       "      <td>Twitter Web App</td>\n",
       "      <td>2021-08-09 00:35:43+00:00</td>\n",
       "      <td>1424529790367895553</td>\n",
       "      <td>en</td>\n",
       "      <td>2/  RBC Training Ground graduate Avalon Wasten...</td>\n",
       "      <td>1424529490466820102</td>\n",
       "      <td>2/  RBC Training Ground graduate Avalon Wasten...</td>\n",
       "    </tr>\n",
       "    <tr>\n",
       "      <th>2</th>\n",
       "      <td>[{'type': 'replied_to', 'id': '142452979036789...</td>\n",
       "      <td>Twitter Web App</td>\n",
       "      <td>2021-08-09 00:36:53+00:00</td>\n",
       "      <td>1424530087320461312</td>\n",
       "      <td>en</td>\n",
       "      <td>3/  RBC Training Ground graduate Kelsey Mitche...</td>\n",
       "      <td>1424529490466820102</td>\n",
       "      <td>3/  RBC Training Ground graduate Kelsey Mitche...</td>\n",
       "    </tr>\n",
       "    <tr>\n",
       "      <th>3</th>\n",
       "      <td>[{'type': 'replied_to', 'id': '142452949046682...</td>\n",
       "      <td>Twitter Web App</td>\n",
       "      <td>2021-08-09 00:35:43+00:00</td>\n",
       "      <td>1424529790367895553</td>\n",
       "      <td>en</td>\n",
       "      <td>2/  RBC Training Ground graduate Avalon Wasten...</td>\n",
       "      <td>1424529490466820102</td>\n",
       "      <td>2/  RBC Training Ground graduate Avalon Wasten...</td>\n",
       "    </tr>\n",
       "    <tr>\n",
       "      <th>4</th>\n",
       "      <td>[{'type': 'replied_to', 'id': '142452979036789...</td>\n",
       "      <td>Twitter Web App</td>\n",
       "      <td>2021-08-09 00:36:53+00:00</td>\n",
       "      <td>1424530087320461312</td>\n",
       "      <td>en</td>\n",
       "      <td>3/  RBC Training Ground graduate Kelsey Mitche...</td>\n",
       "      <td>1424529490466820102</td>\n",
       "      <td>3/  RBC Training Ground graduate Kelsey Mitche...</td>\n",
       "    </tr>\n",
       "  </tbody>\n",
       "</table>\n",
       "</div>"
      ],
      "text/plain": [
       "                                   referenced_tweets           source                created_at                   id lang                                               text      conversation_id                                         clean_text\n",
       "0  [{'type': 'replied_to', 'id': '142452979036789...  Twitter Web App 2021-08-09 00:36:53+00:00  1424530087320461312   en  3/  RBC Training Ground graduate Kelsey Mitche...  1424529490466820102  3/  RBC Training Ground graduate Kelsey Mitche...\n",
       "1  [{'type': 'replied_to', 'id': '142452949046682...  Twitter Web App 2021-08-09 00:35:43+00:00  1424529790367895553   en  2/  RBC Training Ground graduate Avalon Wasten...  1424529490466820102  2/  RBC Training Ground graduate Avalon Wasten...\n",
       "2  [{'type': 'replied_to', 'id': '142452979036789...  Twitter Web App 2021-08-09 00:36:53+00:00  1424530087320461312   en  3/  RBC Training Ground graduate Kelsey Mitche...  1424529490466820102  3/  RBC Training Ground graduate Kelsey Mitche...\n",
       "3  [{'type': 'replied_to', 'id': '142452949046682...  Twitter Web App 2021-08-09 00:35:43+00:00  1424529790367895553   en  2/  RBC Training Ground graduate Avalon Wasten...  1424529490466820102  2/  RBC Training Ground graduate Avalon Wasten...\n",
       "4  [{'type': 'replied_to', 'id': '142452979036789...  Twitter Web App 2021-08-09 00:36:53+00:00  1424530087320461312   en  3/  RBC Training Ground graduate Kelsey Mitche...  1424529490466820102  3/  RBC Training Ground graduate Kelsey Mitche..."
      ]
     },
     "execution_count": 110,
     "metadata": {},
     "output_type": "execute_result"
    }
   ],
   "source": [
    "response_tweet_df['clean_text']=response_tweet_df['text']\n",
    "response_tweet_df.head(5)"
   ]
  },
  {
   "cell_type": "markdown",
   "metadata": {},
   "source": [
    "First, puncuation, user mentions, and hashtags."
   ]
  },
  {
   "cell_type": "code",
   "execution_count": 111,
   "metadata": {},
   "outputs": [],
   "source": [
    "import re\n",
    "user_mentions=re.compile(\"@[A-Za-z0-9]+\")\n",
    "hashtags=re.compile(\"#[A-Za-z0-9]+\")\n",
    "punctuation = re.compile(r'[^\\w\\s]+')\n",
    "original_tweets_df['clean_text'] = [user_mentions.sub('', x) for x in original_tweets_df['clean_text'].tolist()]\n",
    "response_tweet_df['clean_text'] = [user_mentions.sub('', x) for x in response_tweet_df['clean_text'].tolist()]\n",
    "original_tweets_df['clean_text'] = [hashtags.sub('', x) for x in original_tweets_df['clean_text'].tolist()]\n",
    "response_tweet_df['clean_text'] = [hashtags.sub('', x) for x in response_tweet_df['clean_text'].tolist()]\n",
    "original_tweets_df['clean_text'] = [punctuation.sub('', x) for x in original_tweets_df['clean_text'].tolist()]\n",
    "response_tweet_df['clean_text'] = [punctuation.sub('', x) for x in response_tweet_df['clean_text'].tolist()]"
   ]
  },
  {
   "cell_type": "markdown",
   "metadata": {},
   "source": [
    "Remove any URLs"
   ]
  },
  {
   "cell_type": "code",
   "execution_count": 112,
   "metadata": {},
   "outputs": [],
   "source": [
    "original_tweets_df['clean_text']=original_tweets_df['clean_text'].str.replace('http\\S+|www.\\S+', '', case=False)\n",
    "response_tweet_df['clean_text']=response_tweet_df['clean_text'].str.replace('http\\S+|www.\\S+', '', case=False)"
   ]
  },
  {
   "cell_type": "markdown",
   "metadata": {},
   "source": [
    "Remove stopwords."
   ]
  },
  {
   "cell_type": "code",
   "execution_count": 113,
   "metadata": {},
   "outputs": [],
   "source": [
    "from nltk.corpus import stopwords\n",
    "stop = stopwords.words('english')\n",
    "stop_removal=lambda x: ' '.join([word for word in x.split() if word not in (stop)])\n",
    "original_tweets_df['clean_text'] = original_tweets_df['clean_text'].apply(stop_removal)\n",
    "response_tweet_df['clean_text'] = response_tweet_df['clean_text'].apply(stop_removal)"
   ]
  },
  {
   "cell_type": "markdown",
   "metadata": {},
   "source": [
    "Now we're gonna remove any data that doesn't include text after cleaning since we won't be able to do any sort of sentiment analysis down the road on it."
   ]
  },
  {
   "cell_type": "code",
   "execution_count": 125,
   "metadata": {},
   "outputs": [],
   "source": [
    "original_tweets_df = original_tweets_df.replace(r'^\\s*$', np.nan, regex=True)\n",
    "original_tweets_df.dropna(subset = [\"clean_text\"], inplace=True)\n",
    "response_tweet_df = response_tweet_df.replace(r'^\\s*$', np.nan, regex=True)\n",
    "response_tweet_df.dropna(subset = [\"clean_text\"], inplace=True)"
   ]
  },
  {
   "cell_type": "code",
   "execution_count": 126,
   "metadata": {},
   "outputs": [
    {
     "name": "stdout",
     "output_type": "stream",
     "text": [
      "4191\n",
      "594\n"
     ]
    }
   ],
   "source": [
    "print(len(original_tweets_df))\n",
    "print(len(response_tweet_df))"
   ]
  },
  {
   "cell_type": "markdown",
   "metadata": {},
   "source": [
    "A fair amount of tweets were removed from this process.\n",
    "Our final step will be to simply convert casing."
   ]
  },
  {
   "cell_type": "code",
   "execution_count": 127,
   "metadata": {},
   "outputs": [],
   "source": [
    "original_tweets_df[\"clean_text\"] = original_tweets_df[\"clean_text\"].str.lower()\n",
    "response_tweet_df[\"clean_text\"] = response_tweet_df[\"clean_text\"].str.lower()"
   ]
  },
  {
   "cell_type": "markdown",
   "metadata": {},
   "source": [
    "# Word preparation\n",
    "We will continue to work with our text data in order to get it ready to analyze."
   ]
  },
  {
   "cell_type": "code",
   "execution_count": 133,
   "metadata": {},
   "outputs": [
    {
     "name": "stderr",
     "output_type": "stream",
     "text": [
      "[nltk_data] Downloading package vader_lexicon to\n",
      "[nltk_data]     /home/mrausms/nltk_data...\n"
     ]
    },
    {
     "data": {
      "text/plain": [
       "True"
      ]
     },
     "execution_count": 133,
     "metadata": {},
     "output_type": "execute_result"
    }
   ],
   "source": [
    "from textblob import TextBlob\n",
    "import nltk\n",
    "nltk.download('vader_lexicon')"
   ]
  },
  {
   "cell_type": "code",
   "execution_count": 135,
   "metadata": {},
   "outputs": [
    {
     "data": {
      "text/html": [
       "<div>\n",
       "<style scoped>\n",
       "    .dataframe tbody tr th:only-of-type {\n",
       "        vertical-align: middle;\n",
       "    }\n",
       "\n",
       "    .dataframe tbody tr th {\n",
       "        vertical-align: top;\n",
       "    }\n",
       "\n",
       "    .dataframe thead th {\n",
       "        text-align: right;\n",
       "    }\n",
       "</style>\n",
       "<table border=\"1\" class=\"dataframe\">\n",
       "  <thead>\n",
       "    <tr style=\"text-align: right;\">\n",
       "      <th></th>\n",
       "      <th>id</th>\n",
       "      <th>created_at</th>\n",
       "      <th>conversation_id</th>\n",
       "      <th>text</th>\n",
       "      <th>source</th>\n",
       "      <th>lang</th>\n",
       "      <th>referenced_tweets</th>\n",
       "      <th>withheld</th>\n",
       "      <th>clean_text</th>\n",
       "      <th>polarity</th>\n",
       "      <th>subjectivity</th>\n",
       "      <th>sentiment</th>\n",
       "      <th>neg</th>\n",
       "      <th>neu</th>\n",
       "      <th>pos</th>\n",
       "      <th>compound</th>\n",
       "    </tr>\n",
       "  </thead>\n",
       "  <tbody>\n",
       "    <tr>\n",
       "      <th>0</th>\n",
       "      <td>1424536982101790729</td>\n",
       "      <td>2021-08-09 01:04:17+00:00</td>\n",
       "      <td>1424536982101790729</td>\n",
       "      <td>The demise of British cycling has been greatly...</td>\n",
       "      <td>Twitter for iPhone</td>\n",
       "      <td>en</td>\n",
       "      <td>NaN</td>\n",
       "      <td>NaN</td>\n",
       "      <td>the demise british cycling greatly exaggerated...</td>\n",
       "      <td>-0.250000</td>\n",
       "      <td>0.500000</td>\n",
       "      <td>positive</td>\n",
       "      <td>NaN</td>\n",
       "      <td>NaN</td>\n",
       "      <td>NaN</td>\n",
       "      <td>NaN</td>\n",
       "    </tr>\n",
       "    <tr>\n",
       "      <th>1</th>\n",
       "      <td>1424530437586571270</td>\n",
       "      <td>2021-08-09 00:38:17+00:00</td>\n",
       "      <td>1424530437586571270</td>\n",
       "      <td>#NSTsports GOLD may have slipped through their...</td>\n",
       "      <td>Twitter Web App</td>\n",
       "      <td>en</td>\n",
       "      <td>NaN</td>\n",
       "      <td>NaN</td>\n",
       "      <td>gold may slipped grasp national track cycling ...</td>\n",
       "      <td>0.800000</td>\n",
       "      <td>1.000000</td>\n",
       "      <td>positive</td>\n",
       "      <td>NaN</td>\n",
       "      <td>NaN</td>\n",
       "      <td>NaN</td>\n",
       "      <td>NaN</td>\n",
       "    </tr>\n",
       "    <tr>\n",
       "      <th>2</th>\n",
       "      <td>1424530087320461312</td>\n",
       "      <td>2021-08-09 00:36:53+00:00</td>\n",
       "      <td>1424529490466820102</td>\n",
       "      <td>3/  RBC Training Ground graduate Kelsey Mitche...</td>\n",
       "      <td>Twitter Web App</td>\n",
       "      <td>en</td>\n",
       "      <td>[{'type': 'replied_to', 'id': '142452979036789...</td>\n",
       "      <td>NaN</td>\n",
       "      <td>3 rbc training ground graduate kelsey mitchell...</td>\n",
       "      <td>0.000000</td>\n",
       "      <td>0.000000</td>\n",
       "      <td>positive</td>\n",
       "      <td>NaN</td>\n",
       "      <td>NaN</td>\n",
       "      <td>NaN</td>\n",
       "      <td>NaN</td>\n",
       "    </tr>\n",
       "    <tr>\n",
       "      <th>3</th>\n",
       "      <td>1424529959272415237</td>\n",
       "      <td>2021-08-09 00:36:23+00:00</td>\n",
       "      <td>1424529959272415237</td>\n",
       "      <td>#NSTsports SHAH Firdaus Sahrom admitted that w...</td>\n",
       "      <td>Twitter Web App</td>\n",
       "      <td>en</td>\n",
       "      <td>NaN</td>\n",
       "      <td>NaN</td>\n",
       "      <td>shah firdaus sahrom admitted watching teammate...</td>\n",
       "      <td>0.800000</td>\n",
       "      <td>0.400000</td>\n",
       "      <td>positive</td>\n",
       "      <td>NaN</td>\n",
       "      <td>NaN</td>\n",
       "      <td>NaN</td>\n",
       "      <td>NaN</td>\n",
       "    </tr>\n",
       "    <tr>\n",
       "      <th>4</th>\n",
       "      <td>1424524357729144832</td>\n",
       "      <td>2021-08-09 00:14:07+00:00</td>\n",
       "      <td>1424524357729144832</td>\n",
       "      <td>Great Britain tops #Tokyo2020 #Olympics cyclin...</td>\n",
       "      <td>SocialFlow</td>\n",
       "      <td>en</td>\n",
       "      <td>NaN</td>\n",
       "      <td>NaN</td>\n",
       "      <td>great britain tops cycling medal table fending...</td>\n",
       "      <td>0.800000</td>\n",
       "      <td>0.750000</td>\n",
       "      <td>positive</td>\n",
       "      <td>NaN</td>\n",
       "      <td>NaN</td>\n",
       "      <td>NaN</td>\n",
       "      <td>NaN</td>\n",
       "    </tr>\n",
       "    <tr>\n",
       "      <th>5</th>\n",
       "      <td>1424513383001436161</td>\n",
       "      <td>2021-08-08 23:30:31+00:00</td>\n",
       "      <td>1424513383001436161</td>\n",
       "      <td>#Olympics come to an end and #Messi says goodb...</td>\n",
       "      <td>Echobox</td>\n",
       "      <td>en</td>\n",
       "      <td>NaN</td>\n",
       "      <td>NaN</td>\n",
       "      <td>come end says goodbye sundays sporting social</td>\n",
       "      <td>0.033333</td>\n",
       "      <td>0.066667</td>\n",
       "      <td>neutral</td>\n",
       "      <td>0.0</td>\n",
       "      <td>1.0</td>\n",
       "      <td>0.0</td>\n",
       "      <td>0.0</td>\n",
       "    </tr>\n",
       "    <tr>\n",
       "      <th>6</th>\n",
       "      <td>1424511966341591045</td>\n",
       "      <td>2021-08-08 23:24:53+00:00</td>\n",
       "      <td>1424511966341591045</td>\n",
       "      <td>Nice @Telegraph graphic to quickly visualise w...</td>\n",
       "      <td>Twitter for iPad</td>\n",
       "      <td>en</td>\n",
       "      <td>NaN</td>\n",
       "      <td>NaN</td>\n",
       "      <td>nice graphic quickly visualise sports leading ...</td>\n",
       "      <td>0.311111</td>\n",
       "      <td>0.633333</td>\n",
       "      <td>positive</td>\n",
       "      <td>NaN</td>\n",
       "      <td>NaN</td>\n",
       "      <td>NaN</td>\n",
       "      <td>NaN</td>\n",
       "    </tr>\n",
       "    <tr>\n",
       "      <th>7</th>\n",
       "      <td>1424506739437756425</td>\n",
       "      <td>2021-08-08 23:04:07+00:00</td>\n",
       "      <td>1424502101669994506</td>\n",
       "      <td>Cc: @1BillyFloyd @jacksoncarp @k8talois @CDTA ...</td>\n",
       "      <td>Twitter for iPhone</td>\n",
       "      <td>und</td>\n",
       "      <td>[{'type': 'replied_to', 'id': '142450210166999...</td>\n",
       "      <td>NaN</td>\n",
       "      <td>cc</td>\n",
       "      <td>0.000000</td>\n",
       "      <td>0.000000</td>\n",
       "      <td>neutral</td>\n",
       "      <td>0.0</td>\n",
       "      <td>1.0</td>\n",
       "      <td>0.0</td>\n",
       "      <td>0.0</td>\n",
       "    </tr>\n",
       "    <tr>\n",
       "      <th>8</th>\n",
       "      <td>1424501065261764612</td>\n",
       "      <td>2021-08-08 22:41:34+00:00</td>\n",
       "      <td>1424501065261764612</td>\n",
       "      <td>Inspiring: Four years ago, she didn't own a bi...</td>\n",
       "      <td>Twitter Web App</td>\n",
       "      <td>en</td>\n",
       "      <td>NaN</td>\n",
       "      <td>NaN</td>\n",
       "      <td>inspiring four years ago didnt bicycle now gol...</td>\n",
       "      <td>0.500000</td>\n",
       "      <td>1.000000</td>\n",
       "      <td>positive</td>\n",
       "      <td>NaN</td>\n",
       "      <td>NaN</td>\n",
       "      <td>NaN</td>\n",
       "      <td>NaN</td>\n",
       "    </tr>\n",
       "    <tr>\n",
       "      <th>9</th>\n",
       "      <td>1424495783160782850</td>\n",
       "      <td>2021-08-08 22:20:35+00:00</td>\n",
       "      <td>1424495783160782850</td>\n",
       "      <td>I know it’s hard to choose but do you have a f...</td>\n",
       "      <td>Twitter for iPhone</td>\n",
       "      <td>en</td>\n",
       "      <td>NaN</td>\n",
       "      <td>NaN</td>\n",
       "      <td>i know hard choose favourite moment one mine w...</td>\n",
       "      <td>-0.291667</td>\n",
       "      <td>0.541667</td>\n",
       "      <td>negative</td>\n",
       "      <td>NaN</td>\n",
       "      <td>NaN</td>\n",
       "      <td>NaN</td>\n",
       "      <td>NaN</td>\n",
       "    </tr>\n",
       "  </tbody>\n",
       "</table>\n",
       "</div>"
      ],
      "text/plain": [
       "                    id                created_at      conversation_id                                               text              source lang                                  referenced_tweets withheld                                         clean_text  polarity  subjectivity sentiment  neg  neu  pos  compound\n",
       "0  1424536982101790729 2021-08-09 01:04:17+00:00  1424536982101790729  The demise of British cycling has been greatly...  Twitter for iPhone   en                                                NaN      NaN  the demise british cycling greatly exaggerated... -0.250000      0.500000  positive  NaN  NaN  NaN       NaN\n",
       "1  1424530437586571270 2021-08-09 00:38:17+00:00  1424530437586571270  #NSTsports GOLD may have slipped through their...     Twitter Web App   en                                                NaN      NaN  gold may slipped grasp national track cycling ...  0.800000      1.000000  positive  NaN  NaN  NaN       NaN\n",
       "2  1424530087320461312 2021-08-09 00:36:53+00:00  1424529490466820102  3/  RBC Training Ground graduate Kelsey Mitche...     Twitter Web App   en  [{'type': 'replied_to', 'id': '142452979036789...      NaN  3 rbc training ground graduate kelsey mitchell...  0.000000      0.000000  positive  NaN  NaN  NaN       NaN\n",
       "3  1424529959272415237 2021-08-09 00:36:23+00:00  1424529959272415237  #NSTsports SHAH Firdaus Sahrom admitted that w...     Twitter Web App   en                                                NaN      NaN  shah firdaus sahrom admitted watching teammate...  0.800000      0.400000  positive  NaN  NaN  NaN       NaN\n",
       "4  1424524357729144832 2021-08-09 00:14:07+00:00  1424524357729144832  Great Britain tops #Tokyo2020 #Olympics cyclin...          SocialFlow   en                                                NaN      NaN  great britain tops cycling medal table fending...  0.800000      0.750000  positive  NaN  NaN  NaN       NaN\n",
       "5  1424513383001436161 2021-08-08 23:30:31+00:00  1424513383001436161  #Olympics come to an end and #Messi says goodb...             Echobox   en                                                NaN      NaN      come end says goodbye sundays sporting social  0.033333      0.066667   neutral  0.0  1.0  0.0       0.0\n",
       "6  1424511966341591045 2021-08-08 23:24:53+00:00  1424511966341591045  Nice @Telegraph graphic to quickly visualise w...    Twitter for iPad   en                                                NaN      NaN  nice graphic quickly visualise sports leading ...  0.311111      0.633333  positive  NaN  NaN  NaN       NaN\n",
       "7  1424506739437756425 2021-08-08 23:04:07+00:00  1424502101669994506  Cc: @1BillyFloyd @jacksoncarp @k8talois @CDTA ...  Twitter for iPhone  und  [{'type': 'replied_to', 'id': '142450210166999...      NaN                                                 cc  0.000000      0.000000   neutral  0.0  1.0  0.0       0.0\n",
       "8  1424501065261764612 2021-08-08 22:41:34+00:00  1424501065261764612  Inspiring: Four years ago, she didn't own a bi...     Twitter Web App   en                                                NaN      NaN  inspiring four years ago didnt bicycle now gol...  0.500000      1.000000  positive  NaN  NaN  NaN       NaN\n",
       "9  1424495783160782850 2021-08-08 22:20:35+00:00  1424495783160782850  I know it’s hard to choose but do you have a f...  Twitter for iPhone   en                                                NaN      NaN  i know hard choose favourite moment one mine w... -0.291667      0.541667  negative  NaN  NaN  NaN       NaN"
      ]
     },
     "execution_count": 135,
     "metadata": {},
     "output_type": "execute_result"
    }
   ],
   "source": [
    "from nltk.sentiment.vader import SentimentIntensityAnalyzer\n",
    "original_tweets_df[['polarity', 'subjectivity']] = original_tweets_df['clean_text'].apply(lambda Text: pd.Series(TextBlob(Text).sentiment))\n",
    "for index, row in original_tweets_df['clean_text'].iteritems():\n",
    "    score = SentimentIntensityAnalyzer().polarity_scores(row)\n",
    "    neg = score['neg']\n",
    "    neu = score['neu']\n",
    "    pos = score['pos']\n",
    "    comp = score['compound']\n",
    "    if neg > pos:\n",
    "        original_tweets_df.loc[index, 'sentiment'] = 'negative'\n",
    "    elif pos > neg:\n",
    "        original_tweets_df.loc[index, 'sentiment'] = 'positive'\n",
    "    else:\n",
    "        original_tweets_df.loc[index, 'sentiment'] = 'neutral'\n",
    "        original_tweets_df.loc[index, 'neg'] = neg\n",
    "        original_tweets_df.loc[index, 'neu'] = neu\n",
    "        original_tweets_df.loc[index, 'pos'] = pos\n",
    "        original_tweets_df.loc[index, 'compound'] = comp\n",
    "original_tweets_df.head(10)"
   ]
  }
 ],
 "metadata": {
  "kernelspec": {
   "display_name": "Python 3",
   "language": "python",
   "name": "python3"
  },
  "language_info": {
   "codemirror_mode": {
    "name": "ipython",
    "version": 3
   },
   "file_extension": ".py",
   "mimetype": "text/x-python",
   "name": "python",
   "nbconvert_exporter": "python",
   "pygments_lexer": "ipython3",
   "version": "3.8.5"
  }
 },
 "nbformat": 4,
 "nbformat_minor": 4
}
