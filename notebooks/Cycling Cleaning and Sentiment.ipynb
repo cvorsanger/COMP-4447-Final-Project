{
 "cells": [
  {
   "cell_type": "markdown",
   "source": [
    "# Create Dataframes"
   ],
   "metadata": {}
  },
  {
   "cell_type": "code",
   "execution_count": 1,
   "source": [
    "import base64\n",
    "import datetime\n",
    "import json\n",
    "import pandas as pd\n",
    "import pickle\n",
    "import pprint\n",
    "import numpy as np\n",
    "import requests\n",
    "import time"
   ],
   "outputs": [],
   "metadata": {}
  },
  {
   "cell_type": "code",
   "execution_count": 2,
   "source": [
    "olympic_cycling = pd.read_pickle(\"../data/archive/olympic_cycling.pkl\")\n",
    "# olympic_gynmastics_replies=pd.read_pickle(\"olympic_gynmastics_replies.pkl\")"
   ],
   "outputs": [],
   "metadata": {}
  },
  {
   "cell_type": "code",
   "execution_count": 3,
   "source": [
    "pd.set_option('expand_frame_repr', False)\n",
    "original_tweets_df = pd.DataFrame(olympic_cycling)\n",
    "original_tweets_df.head(5)"
   ],
   "outputs": [
    {
     "output_type": "execute_result",
     "data": {
      "text/plain": [
       "                    id                created_at      conversation_id                                               text              source lang                                  referenced_tweets withheld\n",
       "0  1424536982101790729  2021-08-09T01:04:17.000Z  1424536982101790729  The demise of British cycling has been greatly...  Twitter for iPhone   en                                                NaN      NaN\n",
       "1  1424530437586571270  2021-08-09T00:38:17.000Z  1424530437586571270  #NSTsports GOLD may have slipped through their...     Twitter Web App   en                                                NaN      NaN\n",
       "2  1424530087320461312  2021-08-09T00:36:53.000Z  1424529490466820102  3/  RBC Training Ground graduate Kelsey Mitche...     Twitter Web App   en  [{'type': 'replied_to', 'id': '142452979036789...      NaN\n",
       "3  1424529959272415237  2021-08-09T00:36:23.000Z  1424529959272415237  #NSTsports SHAH Firdaus Sahrom admitted that w...     Twitter Web App   en                                                NaN      NaN\n",
       "4  1424524357729144832  2021-08-09T00:14:07.000Z  1424524357729144832  Great Britain tops #Tokyo2020 #Olympics cyclin...          SocialFlow   en                                                NaN      NaN"
      ],
      "text/html": [
       "<div>\n",
       "<style scoped>\n",
       "    .dataframe tbody tr th:only-of-type {\n",
       "        vertical-align: middle;\n",
       "    }\n",
       "\n",
       "    .dataframe tbody tr th {\n",
       "        vertical-align: top;\n",
       "    }\n",
       "\n",
       "    .dataframe thead th {\n",
       "        text-align: right;\n",
       "    }\n",
       "</style>\n",
       "<table border=\"1\" class=\"dataframe\">\n",
       "  <thead>\n",
       "    <tr style=\"text-align: right;\">\n",
       "      <th></th>\n",
       "      <th>id</th>\n",
       "      <th>created_at</th>\n",
       "      <th>conversation_id</th>\n",
       "      <th>text</th>\n",
       "      <th>source</th>\n",
       "      <th>lang</th>\n",
       "      <th>referenced_tweets</th>\n",
       "      <th>withheld</th>\n",
       "    </tr>\n",
       "  </thead>\n",
       "  <tbody>\n",
       "    <tr>\n",
       "      <th>0</th>\n",
       "      <td>1424536982101790729</td>\n",
       "      <td>2021-08-09T01:04:17.000Z</td>\n",
       "      <td>1424536982101790729</td>\n",
       "      <td>The demise of British cycling has been greatly...</td>\n",
       "      <td>Twitter for iPhone</td>\n",
       "      <td>en</td>\n",
       "      <td>NaN</td>\n",
       "      <td>NaN</td>\n",
       "    </tr>\n",
       "    <tr>\n",
       "      <th>1</th>\n",
       "      <td>1424530437586571270</td>\n",
       "      <td>2021-08-09T00:38:17.000Z</td>\n",
       "      <td>1424530437586571270</td>\n",
       "      <td>#NSTsports GOLD may have slipped through their...</td>\n",
       "      <td>Twitter Web App</td>\n",
       "      <td>en</td>\n",
       "      <td>NaN</td>\n",
       "      <td>NaN</td>\n",
       "    </tr>\n",
       "    <tr>\n",
       "      <th>2</th>\n",
       "      <td>1424530087320461312</td>\n",
       "      <td>2021-08-09T00:36:53.000Z</td>\n",
       "      <td>1424529490466820102</td>\n",
       "      <td>3/  RBC Training Ground graduate Kelsey Mitche...</td>\n",
       "      <td>Twitter Web App</td>\n",
       "      <td>en</td>\n",
       "      <td>[{'type': 'replied_to', 'id': '142452979036789...</td>\n",
       "      <td>NaN</td>\n",
       "    </tr>\n",
       "    <tr>\n",
       "      <th>3</th>\n",
       "      <td>1424529959272415237</td>\n",
       "      <td>2021-08-09T00:36:23.000Z</td>\n",
       "      <td>1424529959272415237</td>\n",
       "      <td>#NSTsports SHAH Firdaus Sahrom admitted that w...</td>\n",
       "      <td>Twitter Web App</td>\n",
       "      <td>en</td>\n",
       "      <td>NaN</td>\n",
       "      <td>NaN</td>\n",
       "    </tr>\n",
       "    <tr>\n",
       "      <th>4</th>\n",
       "      <td>1424524357729144832</td>\n",
       "      <td>2021-08-09T00:14:07.000Z</td>\n",
       "      <td>1424524357729144832</td>\n",
       "      <td>Great Britain tops #Tokyo2020 #Olympics cyclin...</td>\n",
       "      <td>SocialFlow</td>\n",
       "      <td>en</td>\n",
       "      <td>NaN</td>\n",
       "      <td>NaN</td>\n",
       "    </tr>\n",
       "  </tbody>\n",
       "</table>\n",
       "</div>"
      ]
     },
     "metadata": {},
     "execution_count": 3
    }
   ],
   "metadata": {}
  },
  {
   "cell_type": "code",
   "execution_count": 4,
   "source": [
    "response_tweet_df = pd.DataFrame(olympic_gynmastics_replies)\n",
    "response_tweet_df.head(5)"
   ],
   "outputs": [
    {
     "output_type": "execute_result",
     "data": {
      "text/plain": [
       "                                   referenced_tweets           source                created_at                   id lang                                               text      conversation_id\n",
       "0  [{'type': 'replied_to', 'id': '142452979036789...  Twitter Web App  2021-08-09T00:36:53.000Z  1424530087320461312   en  3/  RBC Training Ground graduate Kelsey Mitche...  1424529490466820102\n",
       "1  [{'type': 'replied_to', 'id': '142452949046682...  Twitter Web App  2021-08-09T00:35:43.000Z  1424529790367895553   en  2/  RBC Training Ground graduate Avalon Wasten...  1424529490466820102\n",
       "2  [{'type': 'replied_to', 'id': '142452979036789...  Twitter Web App  2021-08-09T00:36:53.000Z  1424530087320461312   en  3/  RBC Training Ground graduate Kelsey Mitche...  1424529490466820102\n",
       "3  [{'type': 'replied_to', 'id': '142452949046682...  Twitter Web App  2021-08-09T00:35:43.000Z  1424529790367895553   en  2/  RBC Training Ground graduate Avalon Wasten...  1424529490466820102\n",
       "4  [{'type': 'replied_to', 'id': '142452979036789...  Twitter Web App  2021-08-09T00:36:53.000Z  1424530087320461312   en  3/  RBC Training Ground graduate Kelsey Mitche...  1424529490466820102"
      ],
      "text/html": [
       "<div>\n",
       "<style scoped>\n",
       "    .dataframe tbody tr th:only-of-type {\n",
       "        vertical-align: middle;\n",
       "    }\n",
       "\n",
       "    .dataframe tbody tr th {\n",
       "        vertical-align: top;\n",
       "    }\n",
       "\n",
       "    .dataframe thead th {\n",
       "        text-align: right;\n",
       "    }\n",
       "</style>\n",
       "<table border=\"1\" class=\"dataframe\">\n",
       "  <thead>\n",
       "    <tr style=\"text-align: right;\">\n",
       "      <th></th>\n",
       "      <th>referenced_tweets</th>\n",
       "      <th>source</th>\n",
       "      <th>created_at</th>\n",
       "      <th>id</th>\n",
       "      <th>lang</th>\n",
       "      <th>text</th>\n",
       "      <th>conversation_id</th>\n",
       "    </tr>\n",
       "  </thead>\n",
       "  <tbody>\n",
       "    <tr>\n",
       "      <th>0</th>\n",
       "      <td>[{'type': 'replied_to', 'id': '142452979036789...</td>\n",
       "      <td>Twitter Web App</td>\n",
       "      <td>2021-08-09T00:36:53.000Z</td>\n",
       "      <td>1424530087320461312</td>\n",
       "      <td>en</td>\n",
       "      <td>3/  RBC Training Ground graduate Kelsey Mitche...</td>\n",
       "      <td>1424529490466820102</td>\n",
       "    </tr>\n",
       "    <tr>\n",
       "      <th>1</th>\n",
       "      <td>[{'type': 'replied_to', 'id': '142452949046682...</td>\n",
       "      <td>Twitter Web App</td>\n",
       "      <td>2021-08-09T00:35:43.000Z</td>\n",
       "      <td>1424529790367895553</td>\n",
       "      <td>en</td>\n",
       "      <td>2/  RBC Training Ground graduate Avalon Wasten...</td>\n",
       "      <td>1424529490466820102</td>\n",
       "    </tr>\n",
       "    <tr>\n",
       "      <th>2</th>\n",
       "      <td>[{'type': 'replied_to', 'id': '142452979036789...</td>\n",
       "      <td>Twitter Web App</td>\n",
       "      <td>2021-08-09T00:36:53.000Z</td>\n",
       "      <td>1424530087320461312</td>\n",
       "      <td>en</td>\n",
       "      <td>3/  RBC Training Ground graduate Kelsey Mitche...</td>\n",
       "      <td>1424529490466820102</td>\n",
       "    </tr>\n",
       "    <tr>\n",
       "      <th>3</th>\n",
       "      <td>[{'type': 'replied_to', 'id': '142452949046682...</td>\n",
       "      <td>Twitter Web App</td>\n",
       "      <td>2021-08-09T00:35:43.000Z</td>\n",
       "      <td>1424529790367895553</td>\n",
       "      <td>en</td>\n",
       "      <td>2/  RBC Training Ground graduate Avalon Wasten...</td>\n",
       "      <td>1424529490466820102</td>\n",
       "    </tr>\n",
       "    <tr>\n",
       "      <th>4</th>\n",
       "      <td>[{'type': 'replied_to', 'id': '142452979036789...</td>\n",
       "      <td>Twitter Web App</td>\n",
       "      <td>2021-08-09T00:36:53.000Z</td>\n",
       "      <td>1424530087320461312</td>\n",
       "      <td>en</td>\n",
       "      <td>3/  RBC Training Ground graduate Kelsey Mitche...</td>\n",
       "      <td>1424529490466820102</td>\n",
       "    </tr>\n",
       "  </tbody>\n",
       "</table>\n",
       "</div>"
      ]
     },
     "metadata": {},
     "execution_count": 4
    }
   ],
   "metadata": {}
  },
  {
   "cell_type": "markdown",
   "source": [
    "# Convert Data Types"
   ],
   "metadata": {}
  },
  {
   "cell_type": "code",
   "execution_count": 5,
   "source": [
    "original_tweets_df.dtypes"
   ],
   "outputs": [
    {
     "output_type": "execute_result",
     "data": {
      "text/plain": [
       "id                   object\n",
       "created_at           object\n",
       "conversation_id      object\n",
       "text                 object\n",
       "source               object\n",
       "lang                 object\n",
       "referenced_tweets    object\n",
       "withheld             object\n",
       "dtype: object"
      ]
     },
     "metadata": {},
     "execution_count": 5
    }
   ],
   "metadata": {}
  },
  {
   "cell_type": "code",
   "execution_count": 6,
   "source": [
    "response_tweet_df.dtypes"
   ],
   "outputs": [
    {
     "output_type": "execute_result",
     "data": {
      "text/plain": [
       "referenced_tweets    object\n",
       "source               object\n",
       "created_at           object\n",
       "id                   object\n",
       "lang                 object\n",
       "text                 object\n",
       "conversation_id      object\n",
       "dtype: object"
      ]
     },
     "metadata": {},
     "execution_count": 6
    }
   ],
   "metadata": {}
  },
  {
   "cell_type": "code",
   "execution_count": 7,
   "source": [
    "original_tweets_df=original_tweets_df.astype({'conversation_id':'int64','id':'int64'})\n",
    "response_tweet_df=response_tweet_df.astype({'conversation_id':'int64','id':'int64'})\n",
    "\n",
    "original_tweets_df['created_at'] = pd.to_datetime(original_tweets_df['created_at'])\n",
    "response_tweet_df['created_at'] = pd.to_datetime(response_tweet_df['created_at'])"
   ],
   "outputs": [],
   "metadata": {}
  },
  {
   "cell_type": "code",
   "execution_count": 8,
   "source": [
    "original_tweets_df.dtypes"
   ],
   "outputs": [
    {
     "output_type": "execute_result",
     "data": {
      "text/plain": [
       "id                                 int64\n",
       "created_at           datetime64[ns, UTC]\n",
       "conversation_id                    int64\n",
       "text                              object\n",
       "source                            object\n",
       "lang                              object\n",
       "referenced_tweets                 object\n",
       "withheld                          object\n",
       "dtype: object"
      ]
     },
     "metadata": {},
     "execution_count": 8
    }
   ],
   "metadata": {}
  },
  {
   "cell_type": "code",
   "execution_count": 9,
   "source": [
    "response_tweet_df.dtypes"
   ],
   "outputs": [
    {
     "output_type": "execute_result",
     "data": {
      "text/plain": [
       "referenced_tweets                 object\n",
       "source                            object\n",
       "created_at           datetime64[ns, UTC]\n",
       "id                                 int64\n",
       "lang                              object\n",
       "text                              object\n",
       "conversation_id                    int64\n",
       "dtype: object"
      ]
     },
     "metadata": {},
     "execution_count": 9
    }
   ],
   "metadata": {}
  },
  {
   "cell_type": "markdown",
   "source": [
    "Object types are already strings so no need to convert them."
   ],
   "metadata": {}
  },
  {
   "cell_type": "markdown",
   "source": [
    "# Handle None Values"
   ],
   "metadata": {}
  },
  {
   "cell_type": "code",
   "execution_count": 10,
   "source": [
    "original_tweets_df = original_tweets_df.fillna(value=np.nan)\n",
    "response_tweet_df = response_tweet_df.fillna(value=np.nan)\n",
    "print(len(original_tweets_df))\n",
    "print(len(response_tweet_df))"
   ],
   "outputs": [
    {
     "output_type": "stream",
     "name": "stdout",
     "text": [
      "4218\n",
      "693\n"
     ]
    }
   ],
   "metadata": {}
  },
  {
   "cell_type": "markdown",
   "source": [
    "# Clean text\n",
    "Lets start by showing what we're working with again after creating a new column for our clean text."
   ],
   "metadata": {}
  },
  {
   "cell_type": "code",
   "execution_count": 11,
   "source": [
    "original_tweets_df['clean_text']=original_tweets_df['text']\n",
    "original_tweets_df.head(5)"
   ],
   "outputs": [
    {
     "output_type": "execute_result",
     "data": {
      "text/plain": [
       "                    id                created_at      conversation_id                                               text              source lang                                  referenced_tweets withheld                                         clean_text\n",
       "0  1424536982101790729 2021-08-09 01:04:17+00:00  1424536982101790729  The demise of British cycling has been greatly...  Twitter for iPhone   en                                                NaN      NaN  The demise of British cycling has been greatly...\n",
       "1  1424530437586571270 2021-08-09 00:38:17+00:00  1424530437586571270  #NSTsports GOLD may have slipped through their...     Twitter Web App   en                                                NaN      NaN  #NSTsports GOLD may have slipped through their...\n",
       "2  1424530087320461312 2021-08-09 00:36:53+00:00  1424529490466820102  3/  RBC Training Ground graduate Kelsey Mitche...     Twitter Web App   en  [{'type': 'replied_to', 'id': '142452979036789...      NaN  3/  RBC Training Ground graduate Kelsey Mitche...\n",
       "3  1424529959272415237 2021-08-09 00:36:23+00:00  1424529959272415237  #NSTsports SHAH Firdaus Sahrom admitted that w...     Twitter Web App   en                                                NaN      NaN  #NSTsports SHAH Firdaus Sahrom admitted that w...\n",
       "4  1424524357729144832 2021-08-09 00:14:07+00:00  1424524357729144832  Great Britain tops #Tokyo2020 #Olympics cyclin...          SocialFlow   en                                                NaN      NaN  Great Britain tops #Tokyo2020 #Olympics cyclin..."
      ],
      "text/html": [
       "<div>\n",
       "<style scoped>\n",
       "    .dataframe tbody tr th:only-of-type {\n",
       "        vertical-align: middle;\n",
       "    }\n",
       "\n",
       "    .dataframe tbody tr th {\n",
       "        vertical-align: top;\n",
       "    }\n",
       "\n",
       "    .dataframe thead th {\n",
       "        text-align: right;\n",
       "    }\n",
       "</style>\n",
       "<table border=\"1\" class=\"dataframe\">\n",
       "  <thead>\n",
       "    <tr style=\"text-align: right;\">\n",
       "      <th></th>\n",
       "      <th>id</th>\n",
       "      <th>created_at</th>\n",
       "      <th>conversation_id</th>\n",
       "      <th>text</th>\n",
       "      <th>source</th>\n",
       "      <th>lang</th>\n",
       "      <th>referenced_tweets</th>\n",
       "      <th>withheld</th>\n",
       "      <th>clean_text</th>\n",
       "    </tr>\n",
       "  </thead>\n",
       "  <tbody>\n",
       "    <tr>\n",
       "      <th>0</th>\n",
       "      <td>1424536982101790729</td>\n",
       "      <td>2021-08-09 01:04:17+00:00</td>\n",
       "      <td>1424536982101790729</td>\n",
       "      <td>The demise of British cycling has been greatly...</td>\n",
       "      <td>Twitter for iPhone</td>\n",
       "      <td>en</td>\n",
       "      <td>NaN</td>\n",
       "      <td>NaN</td>\n",
       "      <td>The demise of British cycling has been greatly...</td>\n",
       "    </tr>\n",
       "    <tr>\n",
       "      <th>1</th>\n",
       "      <td>1424530437586571270</td>\n",
       "      <td>2021-08-09 00:38:17+00:00</td>\n",
       "      <td>1424530437586571270</td>\n",
       "      <td>#NSTsports GOLD may have slipped through their...</td>\n",
       "      <td>Twitter Web App</td>\n",
       "      <td>en</td>\n",
       "      <td>NaN</td>\n",
       "      <td>NaN</td>\n",
       "      <td>#NSTsports GOLD may have slipped through their...</td>\n",
       "    </tr>\n",
       "    <tr>\n",
       "      <th>2</th>\n",
       "      <td>1424530087320461312</td>\n",
       "      <td>2021-08-09 00:36:53+00:00</td>\n",
       "      <td>1424529490466820102</td>\n",
       "      <td>3/  RBC Training Ground graduate Kelsey Mitche...</td>\n",
       "      <td>Twitter Web App</td>\n",
       "      <td>en</td>\n",
       "      <td>[{'type': 'replied_to', 'id': '142452979036789...</td>\n",
       "      <td>NaN</td>\n",
       "      <td>3/  RBC Training Ground graduate Kelsey Mitche...</td>\n",
       "    </tr>\n",
       "    <tr>\n",
       "      <th>3</th>\n",
       "      <td>1424529959272415237</td>\n",
       "      <td>2021-08-09 00:36:23+00:00</td>\n",
       "      <td>1424529959272415237</td>\n",
       "      <td>#NSTsports SHAH Firdaus Sahrom admitted that w...</td>\n",
       "      <td>Twitter Web App</td>\n",
       "      <td>en</td>\n",
       "      <td>NaN</td>\n",
       "      <td>NaN</td>\n",
       "      <td>#NSTsports SHAH Firdaus Sahrom admitted that w...</td>\n",
       "    </tr>\n",
       "    <tr>\n",
       "      <th>4</th>\n",
       "      <td>1424524357729144832</td>\n",
       "      <td>2021-08-09 00:14:07+00:00</td>\n",
       "      <td>1424524357729144832</td>\n",
       "      <td>Great Britain tops #Tokyo2020 #Olympics cyclin...</td>\n",
       "      <td>SocialFlow</td>\n",
       "      <td>en</td>\n",
       "      <td>NaN</td>\n",
       "      <td>NaN</td>\n",
       "      <td>Great Britain tops #Tokyo2020 #Olympics cyclin...</td>\n",
       "    </tr>\n",
       "  </tbody>\n",
       "</table>\n",
       "</div>"
      ]
     },
     "metadata": {},
     "execution_count": 11
    }
   ],
   "metadata": {}
  },
  {
   "cell_type": "code",
   "execution_count": 12,
   "source": [
    "response_tweet_df['clean_text']=response_tweet_df['text']\n",
    "response_tweet_df.head(5)"
   ],
   "outputs": [
    {
     "output_type": "execute_result",
     "data": {
      "text/plain": [
       "                                   referenced_tweets           source                created_at                   id lang                                               text      conversation_id                                         clean_text\n",
       "0  [{'type': 'replied_to', 'id': '142452979036789...  Twitter Web App 2021-08-09 00:36:53+00:00  1424530087320461312   en  3/  RBC Training Ground graduate Kelsey Mitche...  1424529490466820102  3/  RBC Training Ground graduate Kelsey Mitche...\n",
       "1  [{'type': 'replied_to', 'id': '142452949046682...  Twitter Web App 2021-08-09 00:35:43+00:00  1424529790367895553   en  2/  RBC Training Ground graduate Avalon Wasten...  1424529490466820102  2/  RBC Training Ground graduate Avalon Wasten...\n",
       "2  [{'type': 'replied_to', 'id': '142452979036789...  Twitter Web App 2021-08-09 00:36:53+00:00  1424530087320461312   en  3/  RBC Training Ground graduate Kelsey Mitche...  1424529490466820102  3/  RBC Training Ground graduate Kelsey Mitche...\n",
       "3  [{'type': 'replied_to', 'id': '142452949046682...  Twitter Web App 2021-08-09 00:35:43+00:00  1424529790367895553   en  2/  RBC Training Ground graduate Avalon Wasten...  1424529490466820102  2/  RBC Training Ground graduate Avalon Wasten...\n",
       "4  [{'type': 'replied_to', 'id': '142452979036789...  Twitter Web App 2021-08-09 00:36:53+00:00  1424530087320461312   en  3/  RBC Training Ground graduate Kelsey Mitche...  1424529490466820102  3/  RBC Training Ground graduate Kelsey Mitche..."
      ],
      "text/html": [
       "<div>\n",
       "<style scoped>\n",
       "    .dataframe tbody tr th:only-of-type {\n",
       "        vertical-align: middle;\n",
       "    }\n",
       "\n",
       "    .dataframe tbody tr th {\n",
       "        vertical-align: top;\n",
       "    }\n",
       "\n",
       "    .dataframe thead th {\n",
       "        text-align: right;\n",
       "    }\n",
       "</style>\n",
       "<table border=\"1\" class=\"dataframe\">\n",
       "  <thead>\n",
       "    <tr style=\"text-align: right;\">\n",
       "      <th></th>\n",
       "      <th>referenced_tweets</th>\n",
       "      <th>source</th>\n",
       "      <th>created_at</th>\n",
       "      <th>id</th>\n",
       "      <th>lang</th>\n",
       "      <th>text</th>\n",
       "      <th>conversation_id</th>\n",
       "      <th>clean_text</th>\n",
       "    </tr>\n",
       "  </thead>\n",
       "  <tbody>\n",
       "    <tr>\n",
       "      <th>0</th>\n",
       "      <td>[{'type': 'replied_to', 'id': '142452979036789...</td>\n",
       "      <td>Twitter Web App</td>\n",
       "      <td>2021-08-09 00:36:53+00:00</td>\n",
       "      <td>1424530087320461312</td>\n",
       "      <td>en</td>\n",
       "      <td>3/  RBC Training Ground graduate Kelsey Mitche...</td>\n",
       "      <td>1424529490466820102</td>\n",
       "      <td>3/  RBC Training Ground graduate Kelsey Mitche...</td>\n",
       "    </tr>\n",
       "    <tr>\n",
       "      <th>1</th>\n",
       "      <td>[{'type': 'replied_to', 'id': '142452949046682...</td>\n",
       "      <td>Twitter Web App</td>\n",
       "      <td>2021-08-09 00:35:43+00:00</td>\n",
       "      <td>1424529790367895553</td>\n",
       "      <td>en</td>\n",
       "      <td>2/  RBC Training Ground graduate Avalon Wasten...</td>\n",
       "      <td>1424529490466820102</td>\n",
       "      <td>2/  RBC Training Ground graduate Avalon Wasten...</td>\n",
       "    </tr>\n",
       "    <tr>\n",
       "      <th>2</th>\n",
       "      <td>[{'type': 'replied_to', 'id': '142452979036789...</td>\n",
       "      <td>Twitter Web App</td>\n",
       "      <td>2021-08-09 00:36:53+00:00</td>\n",
       "      <td>1424530087320461312</td>\n",
       "      <td>en</td>\n",
       "      <td>3/  RBC Training Ground graduate Kelsey Mitche...</td>\n",
       "      <td>1424529490466820102</td>\n",
       "      <td>3/  RBC Training Ground graduate Kelsey Mitche...</td>\n",
       "    </tr>\n",
       "    <tr>\n",
       "      <th>3</th>\n",
       "      <td>[{'type': 'replied_to', 'id': '142452949046682...</td>\n",
       "      <td>Twitter Web App</td>\n",
       "      <td>2021-08-09 00:35:43+00:00</td>\n",
       "      <td>1424529790367895553</td>\n",
       "      <td>en</td>\n",
       "      <td>2/  RBC Training Ground graduate Avalon Wasten...</td>\n",
       "      <td>1424529490466820102</td>\n",
       "      <td>2/  RBC Training Ground graduate Avalon Wasten...</td>\n",
       "    </tr>\n",
       "    <tr>\n",
       "      <th>4</th>\n",
       "      <td>[{'type': 'replied_to', 'id': '142452979036789...</td>\n",
       "      <td>Twitter Web App</td>\n",
       "      <td>2021-08-09 00:36:53+00:00</td>\n",
       "      <td>1424530087320461312</td>\n",
       "      <td>en</td>\n",
       "      <td>3/  RBC Training Ground graduate Kelsey Mitche...</td>\n",
       "      <td>1424529490466820102</td>\n",
       "      <td>3/  RBC Training Ground graduate Kelsey Mitche...</td>\n",
       "    </tr>\n",
       "  </tbody>\n",
       "</table>\n",
       "</div>"
      ]
     },
     "metadata": {},
     "execution_count": 12
    }
   ],
   "metadata": {}
  },
  {
   "cell_type": "markdown",
   "source": [
    "First, puncuation, user mentions, and hashtags."
   ],
   "metadata": {}
  },
  {
   "cell_type": "code",
   "execution_count": 13,
   "source": [
    "import re\n",
    "user_mentions=re.compile(\"@[A-Za-z0-9]+\")\n",
    "hashtags=re.compile(\"#[A-Za-z0-9]+\")\n",
    "punctuation = re.compile(r'[^\\w\\s]+')\n",
    "original_tweets_df['clean_text'] = [user_mentions.sub('', x) for x in original_tweets_df['clean_text'].tolist()]\n",
    "response_tweet_df['clean_text'] = [user_mentions.sub('', x) for x in response_tweet_df['clean_text'].tolist()]\n",
    "original_tweets_df['clean_text'] = [hashtags.sub('', x) for x in original_tweets_df['clean_text'].tolist()]\n",
    "response_tweet_df['clean_text'] = [hashtags.sub('', x) for x in response_tweet_df['clean_text'].tolist()]\n",
    "original_tweets_df['clean_text'] = [punctuation.sub('', x) for x in original_tweets_df['clean_text'].tolist()]\n",
    "response_tweet_df['clean_text'] = [punctuation.sub('', x) for x in response_tweet_df['clean_text'].tolist()]"
   ],
   "outputs": [],
   "metadata": {}
  },
  {
   "cell_type": "markdown",
   "source": [
    "Remove any URLs"
   ],
   "metadata": {}
  },
  {
   "cell_type": "code",
   "execution_count": 14,
   "source": [
    "original_tweets_df['clean_text']=original_tweets_df['clean_text'].str.replace('http\\S+|www.\\S+', '', case=False)\n",
    "response_tweet_df['clean_text']=response_tweet_df['clean_text'].str.replace('http\\S+|www.\\S+', '', case=False)"
   ],
   "outputs": [],
   "metadata": {}
  },
  {
   "cell_type": "markdown",
   "source": [
    "Remove stopwords."
   ],
   "metadata": {}
  },
  {
   "cell_type": "code",
   "execution_count": 15,
   "source": [
    "from nltk.corpus import stopwords\n",
    "stop = stopwords.words('english')\n",
    "stop_removal=lambda x: ' '.join([word for word in x.split() if word not in (stop)])\n",
    "original_tweets_df['clean_text'] = original_tweets_df['clean_text'].apply(stop_removal)\n",
    "response_tweet_df['clean_text'] = response_tweet_df['clean_text'].apply(stop_removal)"
   ],
   "outputs": [],
   "metadata": {}
  },
  {
   "cell_type": "markdown",
   "source": [
    "Now we're gonna remove any data that doesn't include text after cleaning since we won't be able to do any sort of sentiment analysis down the road on it."
   ],
   "metadata": {}
  },
  {
   "cell_type": "code",
   "execution_count": 16,
   "source": [
    "original_tweets_df = original_tweets_df.replace(r'^\\s*$', np.nan, regex=True)\n",
    "original_tweets_df.dropna(subset = [\"clean_text\"], inplace=True)\n",
    "response_tweet_df = response_tweet_df.replace(r'^\\s*$', np.nan, regex=True)\n",
    "response_tweet_df.dropna(subset = [\"clean_text\"], inplace=True)"
   ],
   "outputs": [],
   "metadata": {}
  },
  {
   "cell_type": "code",
   "execution_count": 17,
   "source": [
    "print(len(original_tweets_df))\n",
    "print(len(response_tweet_df))"
   ],
   "outputs": [
    {
     "output_type": "stream",
     "name": "stdout",
     "text": [
      "4191\n",
      "594\n"
     ]
    }
   ],
   "metadata": {}
  },
  {
   "cell_type": "markdown",
   "source": [
    "A fair amount of tweets were removed from this process.\n",
    "Our final step will be to simply convert casing."
   ],
   "metadata": {}
  },
  {
   "cell_type": "code",
   "execution_count": 18,
   "source": [
    "original_tweets_df[\"clean_text\"] = original_tweets_df[\"clean_text\"].str.lower()\n",
    "response_tweet_df[\"clean_text\"] = response_tweet_df[\"clean_text\"].str.lower()"
   ],
   "outputs": [],
   "metadata": {}
  },
  {
   "cell_type": "markdown",
   "source": [
    "# Word preparation\n",
    "We will continue to work with our text data in order to get it ready to analyze."
   ],
   "metadata": {}
  },
  {
   "cell_type": "code",
   "execution_count": 19,
   "source": [
    "from textblob import TextBlob\n",
    "import nltk\n",
    "nltk.download('vader_lexicon')"
   ],
   "outputs": [
    {
     "output_type": "stream",
     "name": "stderr",
     "text": [
      "[nltk_data] Downloading package vader_lexicon to\n",
      "[nltk_data]     /home/mrausms/nltk_data...\n",
      "[nltk_data]   Package vader_lexicon is already up-to-date!\n"
     ]
    },
    {
     "output_type": "execute_result",
     "data": {
      "text/plain": [
       "True"
      ]
     },
     "metadata": {},
     "execution_count": 19
    }
   ],
   "metadata": {}
  },
  {
   "cell_type": "code",
   "execution_count": 22,
   "source": [
    "from nltk.sentiment.vader import SentimentIntensityAnalyzer\n",
    "original_tweets_df[['polarity', 'subjectivity']] = original_tweets_df['clean_text'].apply(lambda Text: pd.Series(TextBlob(Text).sentiment))\n",
    "for index, row in original_tweets_df['clean_text'].iteritems():\n",
    "    score = SentimentIntensityAnalyzer().polarity_scores(row)\n",
    "    neg = score['neg']\n",
    "    neu = score['neu']\n",
    "    pos = score['pos']\n",
    "    comp = score['compound']\n",
    "    if neg > pos:\n",
    "        original_tweets_df.loc[index, 'sentiment'] = 'negative'\n",
    "    elif pos > neg:\n",
    "        original_tweets_df.loc[index, 'sentiment'] = 'positive'\n",
    "    else:\n",
    "        original_tweets_df.loc[index, 'sentiment'] = 'neutral'\n",
    "    original_tweets_df.loc[index, 'neg'] = neg\n",
    "    original_tweets_df.loc[index, 'neu'] = neu\n",
    "    original_tweets_df.loc[index, 'pos'] = pos\n",
    "    original_tweets_df.loc[index, 'compound'] = comp\n",
    "original_tweets_df.head(10)"
   ],
   "outputs": [
    {
     "output_type": "execute_result",
     "data": {
      "text/plain": [
       "                    id                created_at      conversation_id                                               text              source lang                                  referenced_tweets withheld                                         clean_text  polarity  subjectivity sentiment    neg    neu    pos  compound\n",
       "0  1424536982101790729 2021-08-09 01:04:17+00:00  1424536982101790729  The demise of British cycling has been greatly...  Twitter for iPhone   en                                                NaN      NaN  the demise british cycling greatly exaggerated... -0.250000      0.500000  positive  0.132  0.625  0.242    0.3415\n",
       "1  1424530437586571270 2021-08-09 00:38:17+00:00  1424530437586571270  #NSTsports GOLD may have slipped through their...     Twitter Web App   en                                                NaN      NaN  gold may slipped grasp national track cycling ...  0.800000      1.000000  positive  0.000  0.838  0.162    0.4767\n",
       "2  1424530087320461312 2021-08-09 00:36:53+00:00  1424529490466820102  3/  RBC Training Ground graduate Kelsey Mitche...     Twitter Web App   en  [{'type': 'replied_to', 'id': '142452979036789...      NaN  3 rbc training ground graduate kelsey mitchell...  0.000000      0.000000  positive  0.000  0.595  0.405    0.7783\n",
       "3  1424529959272415237 2021-08-09 00:36:23+00:00  1424529959272415237  #NSTsports SHAH Firdaus Sahrom admitted that w...     Twitter Web App   en                                                NaN      NaN  shah firdaus sahrom admitted watching teammate...  0.800000      0.400000  positive  0.060  0.556  0.384    0.7906\n",
       "4  1424524357729144832 2021-08-09 00:14:07+00:00  1424524357729144832  Great Britain tops #Tokyo2020 #Olympics cyclin...          SocialFlow   en                                                NaN      NaN  great britain tops cycling medal table fending...  0.800000      0.750000  positive  0.000  0.430  0.570    0.9274\n",
       "5  1424513383001436161 2021-08-08 23:30:31+00:00  1424513383001436161  #Olympics come to an end and #Messi says goodb...             Echobox   en                                                NaN      NaN      come end says goodbye sundays sporting social  0.033333      0.066667   neutral  0.000  1.000  0.000    0.0000\n",
       "6  1424511966341591045 2021-08-08 23:24:53+00:00  1424511966341591045  Nice @Telegraph graphic to quickly visualise w...    Twitter for iPad   en                                                NaN      NaN  nice graphic quickly visualise sports leading ...  0.311111      0.633333  positive  0.000  0.742  0.258    0.7430\n",
       "7  1424506739437756425 2021-08-08 23:04:07+00:00  1424502101669994506  Cc: @1BillyFloyd @jacksoncarp @k8talois @CDTA ...  Twitter for iPhone  und  [{'type': 'replied_to', 'id': '142450210166999...      NaN                                                 cc  0.000000      0.000000   neutral  0.000  1.000  0.000    0.0000\n",
       "8  1424501065261764612 2021-08-08 22:41:34+00:00  1424501065261764612  Inspiring: Four years ago, she didn't own a bi...     Twitter Web App   en                                                NaN      NaN  inspiring four years ago didnt bicycle now gol...  0.500000      1.000000  positive  0.000  0.604  0.396    0.7096\n",
       "9  1424495783160782850 2021-08-08 22:20:35+00:00  1424495783160782850  I know it’s hard to choose but do you have a f...  Twitter for iPhone   en                                                NaN      NaN  i know hard choose favourite moment one mine w... -0.291667      0.541667  negative  0.123  0.877  0.000   -0.1027"
      ],
      "text/html": [
       "<div>\n",
       "<style scoped>\n",
       "    .dataframe tbody tr th:only-of-type {\n",
       "        vertical-align: middle;\n",
       "    }\n",
       "\n",
       "    .dataframe tbody tr th {\n",
       "        vertical-align: top;\n",
       "    }\n",
       "\n",
       "    .dataframe thead th {\n",
       "        text-align: right;\n",
       "    }\n",
       "</style>\n",
       "<table border=\"1\" class=\"dataframe\">\n",
       "  <thead>\n",
       "    <tr style=\"text-align: right;\">\n",
       "      <th></th>\n",
       "      <th>id</th>\n",
       "      <th>created_at</th>\n",
       "      <th>conversation_id</th>\n",
       "      <th>text</th>\n",
       "      <th>source</th>\n",
       "      <th>lang</th>\n",
       "      <th>referenced_tweets</th>\n",
       "      <th>withheld</th>\n",
       "      <th>clean_text</th>\n",
       "      <th>polarity</th>\n",
       "      <th>subjectivity</th>\n",
       "      <th>sentiment</th>\n",
       "      <th>neg</th>\n",
       "      <th>neu</th>\n",
       "      <th>pos</th>\n",
       "      <th>compound</th>\n",
       "    </tr>\n",
       "  </thead>\n",
       "  <tbody>\n",
       "    <tr>\n",
       "      <th>0</th>\n",
       "      <td>1424536982101790729</td>\n",
       "      <td>2021-08-09 01:04:17+00:00</td>\n",
       "      <td>1424536982101790729</td>\n",
       "      <td>The demise of British cycling has been greatly...</td>\n",
       "      <td>Twitter for iPhone</td>\n",
       "      <td>en</td>\n",
       "      <td>NaN</td>\n",
       "      <td>NaN</td>\n",
       "      <td>the demise british cycling greatly exaggerated...</td>\n",
       "      <td>-0.250000</td>\n",
       "      <td>0.500000</td>\n",
       "      <td>positive</td>\n",
       "      <td>0.132</td>\n",
       "      <td>0.625</td>\n",
       "      <td>0.242</td>\n",
       "      <td>0.3415</td>\n",
       "    </tr>\n",
       "    <tr>\n",
       "      <th>1</th>\n",
       "      <td>1424530437586571270</td>\n",
       "      <td>2021-08-09 00:38:17+00:00</td>\n",
       "      <td>1424530437586571270</td>\n",
       "      <td>#NSTsports GOLD may have slipped through their...</td>\n",
       "      <td>Twitter Web App</td>\n",
       "      <td>en</td>\n",
       "      <td>NaN</td>\n",
       "      <td>NaN</td>\n",
       "      <td>gold may slipped grasp national track cycling ...</td>\n",
       "      <td>0.800000</td>\n",
       "      <td>1.000000</td>\n",
       "      <td>positive</td>\n",
       "      <td>0.000</td>\n",
       "      <td>0.838</td>\n",
       "      <td>0.162</td>\n",
       "      <td>0.4767</td>\n",
       "    </tr>\n",
       "    <tr>\n",
       "      <th>2</th>\n",
       "      <td>1424530087320461312</td>\n",
       "      <td>2021-08-09 00:36:53+00:00</td>\n",
       "      <td>1424529490466820102</td>\n",
       "      <td>3/  RBC Training Ground graduate Kelsey Mitche...</td>\n",
       "      <td>Twitter Web App</td>\n",
       "      <td>en</td>\n",
       "      <td>[{'type': 'replied_to', 'id': '142452979036789...</td>\n",
       "      <td>NaN</td>\n",
       "      <td>3 rbc training ground graduate kelsey mitchell...</td>\n",
       "      <td>0.000000</td>\n",
       "      <td>0.000000</td>\n",
       "      <td>positive</td>\n",
       "      <td>0.000</td>\n",
       "      <td>0.595</td>\n",
       "      <td>0.405</td>\n",
       "      <td>0.7783</td>\n",
       "    </tr>\n",
       "    <tr>\n",
       "      <th>3</th>\n",
       "      <td>1424529959272415237</td>\n",
       "      <td>2021-08-09 00:36:23+00:00</td>\n",
       "      <td>1424529959272415237</td>\n",
       "      <td>#NSTsports SHAH Firdaus Sahrom admitted that w...</td>\n",
       "      <td>Twitter Web App</td>\n",
       "      <td>en</td>\n",
       "      <td>NaN</td>\n",
       "      <td>NaN</td>\n",
       "      <td>shah firdaus sahrom admitted watching teammate...</td>\n",
       "      <td>0.800000</td>\n",
       "      <td>0.400000</td>\n",
       "      <td>positive</td>\n",
       "      <td>0.060</td>\n",
       "      <td>0.556</td>\n",
       "      <td>0.384</td>\n",
       "      <td>0.7906</td>\n",
       "    </tr>\n",
       "    <tr>\n",
       "      <th>4</th>\n",
       "      <td>1424524357729144832</td>\n",
       "      <td>2021-08-09 00:14:07+00:00</td>\n",
       "      <td>1424524357729144832</td>\n",
       "      <td>Great Britain tops #Tokyo2020 #Olympics cyclin...</td>\n",
       "      <td>SocialFlow</td>\n",
       "      <td>en</td>\n",
       "      <td>NaN</td>\n",
       "      <td>NaN</td>\n",
       "      <td>great britain tops cycling medal table fending...</td>\n",
       "      <td>0.800000</td>\n",
       "      <td>0.750000</td>\n",
       "      <td>positive</td>\n",
       "      <td>0.000</td>\n",
       "      <td>0.430</td>\n",
       "      <td>0.570</td>\n",
       "      <td>0.9274</td>\n",
       "    </tr>\n",
       "    <tr>\n",
       "      <th>5</th>\n",
       "      <td>1424513383001436161</td>\n",
       "      <td>2021-08-08 23:30:31+00:00</td>\n",
       "      <td>1424513383001436161</td>\n",
       "      <td>#Olympics come to an end and #Messi says goodb...</td>\n",
       "      <td>Echobox</td>\n",
       "      <td>en</td>\n",
       "      <td>NaN</td>\n",
       "      <td>NaN</td>\n",
       "      <td>come end says goodbye sundays sporting social</td>\n",
       "      <td>0.033333</td>\n",
       "      <td>0.066667</td>\n",
       "      <td>neutral</td>\n",
       "      <td>0.000</td>\n",
       "      <td>1.000</td>\n",
       "      <td>0.000</td>\n",
       "      <td>0.0000</td>\n",
       "    </tr>\n",
       "    <tr>\n",
       "      <th>6</th>\n",
       "      <td>1424511966341591045</td>\n",
       "      <td>2021-08-08 23:24:53+00:00</td>\n",
       "      <td>1424511966341591045</td>\n",
       "      <td>Nice @Telegraph graphic to quickly visualise w...</td>\n",
       "      <td>Twitter for iPad</td>\n",
       "      <td>en</td>\n",
       "      <td>NaN</td>\n",
       "      <td>NaN</td>\n",
       "      <td>nice graphic quickly visualise sports leading ...</td>\n",
       "      <td>0.311111</td>\n",
       "      <td>0.633333</td>\n",
       "      <td>positive</td>\n",
       "      <td>0.000</td>\n",
       "      <td>0.742</td>\n",
       "      <td>0.258</td>\n",
       "      <td>0.7430</td>\n",
       "    </tr>\n",
       "    <tr>\n",
       "      <th>7</th>\n",
       "      <td>1424506739437756425</td>\n",
       "      <td>2021-08-08 23:04:07+00:00</td>\n",
       "      <td>1424502101669994506</td>\n",
       "      <td>Cc: @1BillyFloyd @jacksoncarp @k8talois @CDTA ...</td>\n",
       "      <td>Twitter for iPhone</td>\n",
       "      <td>und</td>\n",
       "      <td>[{'type': 'replied_to', 'id': '142450210166999...</td>\n",
       "      <td>NaN</td>\n",
       "      <td>cc</td>\n",
       "      <td>0.000000</td>\n",
       "      <td>0.000000</td>\n",
       "      <td>neutral</td>\n",
       "      <td>0.000</td>\n",
       "      <td>1.000</td>\n",
       "      <td>0.000</td>\n",
       "      <td>0.0000</td>\n",
       "    </tr>\n",
       "    <tr>\n",
       "      <th>8</th>\n",
       "      <td>1424501065261764612</td>\n",
       "      <td>2021-08-08 22:41:34+00:00</td>\n",
       "      <td>1424501065261764612</td>\n",
       "      <td>Inspiring: Four years ago, she didn't own a bi...</td>\n",
       "      <td>Twitter Web App</td>\n",
       "      <td>en</td>\n",
       "      <td>NaN</td>\n",
       "      <td>NaN</td>\n",
       "      <td>inspiring four years ago didnt bicycle now gol...</td>\n",
       "      <td>0.500000</td>\n",
       "      <td>1.000000</td>\n",
       "      <td>positive</td>\n",
       "      <td>0.000</td>\n",
       "      <td>0.604</td>\n",
       "      <td>0.396</td>\n",
       "      <td>0.7096</td>\n",
       "    </tr>\n",
       "    <tr>\n",
       "      <th>9</th>\n",
       "      <td>1424495783160782850</td>\n",
       "      <td>2021-08-08 22:20:35+00:00</td>\n",
       "      <td>1424495783160782850</td>\n",
       "      <td>I know it’s hard to choose but do you have a f...</td>\n",
       "      <td>Twitter for iPhone</td>\n",
       "      <td>en</td>\n",
       "      <td>NaN</td>\n",
       "      <td>NaN</td>\n",
       "      <td>i know hard choose favourite moment one mine w...</td>\n",
       "      <td>-0.291667</td>\n",
       "      <td>0.541667</td>\n",
       "      <td>negative</td>\n",
       "      <td>0.123</td>\n",
       "      <td>0.877</td>\n",
       "      <td>0.000</td>\n",
       "      <td>-0.1027</td>\n",
       "    </tr>\n",
       "  </tbody>\n",
       "</table>\n",
       "</div>"
      ]
     },
     "metadata": {},
     "execution_count": 22
    }
   ],
   "metadata": {}
  },
  {
   "cell_type": "code",
   "execution_count": 21,
   "source": [
    "sentiment_data=original_tweets_df[['id','sentiment']]\n",
    "df=sentiment_data.groupby('sentiment')['id'].count()\n",
    "df.plot.pie()"
   ],
   "outputs": [
    {
     "output_type": "execute_result",
     "data": {
      "text/plain": [
       "<matplotlib.axes._subplots.AxesSubplot at 0x7fbc22915f40>"
      ]
     },
     "metadata": {},
     "execution_count": 21
    },
    {
     "output_type": "display_data",
     "data": {
      "text/plain": [
       "<Figure size 432x288 with 1 Axes>"
      ],
      "image/png": "[encoded data removed]"
     },
     "metadata": {}
    }
   ],
   "metadata": {}
  }
 ],
 "metadata": {
  "kernelspec": {
   "display_name": "Python 3",
   "language": "python",
   "name": "python3"
  },
  "language_info": {
   "codemirror_mode": {
    "name": "ipython",
    "version": 3
   },
   "file_extension": ".py",
   "mimetype": "text/x-python",
   "name": "python",
   "nbconvert_exporter": "python",
   "pygments_lexer": "ipython3",
   "version": "3.8.5"
  }
 },
 "nbformat": 4,
 "nbformat_minor": 4
}