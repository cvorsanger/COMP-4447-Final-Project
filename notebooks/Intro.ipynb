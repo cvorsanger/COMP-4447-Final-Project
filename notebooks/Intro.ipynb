{
 "cells": [
  {
   "cell_type": "markdown",
   "metadata": {},
   "source": [
    "# Section 1: Introduction\n",
    "- [Section 1.1: Research Question](#research_q)\n",
    "- [Section 1.2: Literature Review](#lit_review)"
   ]
  },
  {
   "cell_type": "markdown",
   "metadata": {},
   "source": [
    "## 1.1: Research Question <a class=\"anchor\" id=\"research_q\"></a>\n",
    "\n",
    "Every four years (five years sometimes) something special happens. No, it is not the world's greatest athletes coming together to showcase elite human athletisism in\n",
    "the Summer Olympics. Rather, it is the millions of people that come together to tweet about these athletes. In a showcase of elite human thumbs, these people tell you all you need to know about the Olympics; with 100% accuracy of course. \n",
    "\n",
    "So what does the twitter-sphere have to say about the Olympics? Are there sports that are being talked about in a better light then others? How does the sentiment pf the Olympics change over the course of the event? In this project we will be investigating tweet sentiment involving Olympic sports to see how they evolve over time. In the end the sentiment of specfic sports will be analyzed and any trends should be discovered.\n",
    "<center>\n",
    "    <img src=https://pbs.twimg.com/profile_images/1354479643882004483/Btnfm47p_400x400.jpg style=\"width:300px;height:300px;margin:0px 10px\"></img>\n",
    "    <img src=https://media.giphy.com/media/26ufmepVftH5Y2V7q/source.gif style=\"width:300px;height:300px;\"></img>\n",
    "</center>"
   ]
  },
  {
   "cell_type": "markdown",
   "metadata": {},
   "source": [
    "## 1.2: Literature Review <a class=\"anchor\" id=\"lit_review\"></a>\n",
    "\n",
    "For now lets just document links and write a short summary. If we can site fiveish articles that should be good.\n",
    "\n",
    "[Sentiment of Siamand Rhaman](../Literature%20Review/JACET_Volume%205_Issue%203_Page%20143-160.pdf) - Reviews Sentiment of tweets of the 2016 RIO Games. Page focuses on tweets with the athlete Siamand Rhman and only an handful of words. Similar application, slighty different approach.\n",
    "\n",
    "[Sentiment of tweet](https://www.geeksforgeeks.org/twitter-sentiment-analysis-using-python/) - Sentiment of tweets. Uses a library valled TextBlob to analyze the setiment. Not mush on the cleaning and feature engineering side"
   ]
  },
  {
   "cell_type": "markdown",
   "metadata": {},
   "source": [
    "<div class=\"container\">\n",
    "   <div style=\"float:left;width:0%\"></div>\n",
    "   <div style=\"float:right;width:20%\"><a href=\"./Ingestion.ipynb\">Section 2: Data Ingestion >></a></div>\n",
    "   <div style=\"float:right;width:40%\"><a href=\"../main.md\">Table of Contents</a></div>\n",
    "</div>"
   ]
  }
 ],
 "metadata": {
  "kernelspec": {
   "display_name": "Python 3",
   "language": "python",
   "name": "python3"
  },
  "language_info": {
   "codemirror_mode": {
    "name": "ipython",
    "version": 3
   },
   "file_extension": ".py",
   "mimetype": "text/x-python",
   "name": "python",
   "nbconvert_exporter": "python",
   "pygments_lexer": "ipython3",
   "version": "3.8.2"
  }
 },
 "nbformat": 4,
 "nbformat_minor": 4
}
