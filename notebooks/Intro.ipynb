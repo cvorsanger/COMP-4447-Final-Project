{
 "cells": [
  {
   "cell_type": "markdown",
   "source": [
    "# Section 1: Introduction\n",
    "- [Section 1.1: Research Question](#research_q)\n",
    "- [Section 1.2: Literature Review](#lit_review)"
   ],
   "metadata": {}
  },
  {
   "cell_type": "markdown",
   "source": [
    "## 1.1: Research Question <a class=\"anchor\" id=\"research_q\"></a>\n",
    "\n",
    "Every four years (five years sometimes) something special happens. No, it is not the world's greatest athletes coming together to showcase elite human athletisism in\n",
    "the Summer Olympics. Rather, it is the millions of people that come together to tweet about these athletes. In a showcase of elite human thumbs, these people tell you all you need to know about the Olympics; with 100% accuracy of course. \n",
    "\n",
    "So what does the twitter-sphere have to say about the Olympics? Are there sports that are being talked about in a better light then others? How does the sentiment pf the Olympics change over the course of the event? In this project we will be investigating tweet sentiment involving Olympic sports to see how they evolve over time. In the end the sentiment of specfic sports will be analyzed and any trends should be discovered.\n",
    "<center>\n",
    "    <img src=https://pbs.twimg.com/profile_images/1354479643882004483/Btnfm47p_400x400.jpg style=\"width:300px;height:300px;margin:0px 10px\"></img>\n",
    "    <img src=https://media.giphy.com/media/26ufmepVftH5Y2V7q/source.gif style=\"width:300px;height:300px;\"></img>\n",
    "</center>"
   ],
   "metadata": {}
  },
  {
   "cell_type": "markdown",
   "source": [
    "## 1.2: Literature Review <a class=\"anchor\" id=\"lit_review\"></a>\n",
    "\n",
    "Text sentiment analysis is really nothing new. With the advancements of Natuaral Languauge Processing (NLP) techniques building a sentiment analysis tool as become common place in a wide variety of applications. While sentiment analysis is not limited to twitter and can be used for any text data, with its vast amount of text data and constant addition of data Twitter has been used in many sentiment anaysis applications. From using twitter data to help predict stock data as in [Anshul Mittal](http://cs229.stanford.edu/proj2011/GoelMittal-StockMarketPredictionUsingTwitterSentimentAnalysis.pdf) to the always civil discussions about politics as shown in the [Geeks for Geeks article](https://www.geeksforgeeks.org/twitter-sentiment-analysis-using-python/) and [TSAM](https://ieeexplore.ieee.org/abstract/document/6581022?casa_token=qrfkpDZP30sAAAAA:PNpsFf2_T9jXUB81SKLMldZji2tDprsCz4Ec4QSrHxlJQNIW3Yi52tWHZ4jhfTgPrqRjzjdKBfA) . Unsurprisingly, there has been work done in the Olympic domain. The closest work we have discovered with a paper written was in [2016 Olympic Games on Twitter: Sentiment Analysis of Sports Fans Tweets using Big Data Framework](../Literature%20Review/JACET_Volume%205_Issue%203_Page%20143-160.pdf). This paper came out of the Ilamic Azad University in Iran. The writter focus on Iranian Olympians instead of sports. Using tweets in both English and Farsi they classify tweets as fearful, angry, surprising, sadness, joyful, neatruel, and anticipation. We will be only concerend about classifying tweets as negative, positive, or neutral.\n",
    "\n",
    "While most work follows the same general outline there are differences in sentiement analysis works. For instance [2016 Olympic Games on Twitter: Sentiment Analysis of Sports Fans Tweets using Big Data Framework](../Literature%20Review/JACET_Volume%205_Issue%203_Page%20143-160.pdf) uses the WordNet package to handle most of their preprocessing and sentiment analysis model. [Geeks for Geeks article](https://www.geeksforgeeks.org/twitter-sentiment-analysis-using-python/) uses the TextBlob library for their sentiment analysis. [Yalin Yener](https://towardsdatascience.com/step-by-step-twitter-sentiment-analysis-in-python-d6f650ade58d) introduces the Vader sentiment engine in the nltk library.\n",
    "\n",
    "After review we have decide to prusue usiung mostly the nltk library. With this library we should be able to do most of the data cleaning and allows us to use the Vader sentiment engine. More information on Vader will be presented in the Model Creation section."
   ],
   "metadata": {}
  },
  {
   "cell_type": "markdown",
   "source": [
    "<div class=\"container\">\n",
    "   <div style=\"float:left;width:0%\"></div>\n",
    "   <div style=\"float:right;width:20%\"><a href=\"./Ingestion.ipynb\">Section 2: Data Ingestion >></a></div>\n",
    "   <div style=\"float:right;width:40%\"><a href=\"../main.md\">Table of Contents</a></div>\n",
    "</div>"
   ],
   "metadata": {}
  }
 ],
 "metadata": {
  "kernelspec": {
   "display_name": "Python 3 (ipykernel)",
   "language": "python",
   "name": "python3"
  },
  "language_info": {
   "codemirror_mode": {
    "name": "ipython",
    "version": 3
   },
   "file_extension": ".py",
   "mimetype": "text/x-python",
   "name": "python",
   "nbconvert_exporter": "python",
   "pygments_lexer": "ipython3",
   "version": "3.9.6"
  }
 },
 "nbformat": 4,
 "nbformat_minor": 4
}