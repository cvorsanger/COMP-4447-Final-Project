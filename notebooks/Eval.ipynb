{
 "cells": [
  {
   "cell_type": "markdown",
   "source": [
    "# Section 5: Evaluation and Conclusions\n",
    "- [Section 5.1: Results](#results)\n",
    "- [Section 5.2: Futrure Work](#future)"
   ],
   "metadata": {}
  },
  {
   "cell_type": "markdown",
   "source": [
    "## Section 5.1: Results <a class=\"anchor\" id=\"results\"></a>\n",
    "\n",
    "Description and graphs of our reults. Were they what we thought."
   ],
   "metadata": {}
  },
  {
   "cell_type": "markdown",
   "source": [
    "## Section 5.2: Future Work <a class=\"anchor\" id=\"future\"></a>\n",
    "\n",
    "Next steps"
   ],
   "metadata": {}
  },
  {
   "cell_type": "markdown",
   "source": [
    "<div class=\"container\">\n",
    "   <div style=\"float:left;width:20%\"><a href=\"./Model.ipynb\"><< Section 4: Model Creation</a></div>\n",
    "   <div style=\"float:right;width:15%\"></div>\n",
    "   <div style=\"float:right;width:60%\"><a href=\"../main.md\">Table of Contents</a></div>\n",
    "</div>"
   ],
   "metadata": {}
  }
 ],
 "metadata": {
  "kernelspec": {
   "display_name": "Python 3",
   "language": "python",
   "name": "python3"
  },
  "language_info": {
   "codemirror_mode": {
    "name": "ipython",
    "version": 3
   },
   "file_extension": ".py",
   "mimetype": "text/x-python",
   "name": "python",
   "nbconvert_exporter": "python",
   "pygments_lexer": "ipython3",
   "version": "3.8.2"
  }
 },
 "nbformat": 4,
 "nbformat_minor": 4
}