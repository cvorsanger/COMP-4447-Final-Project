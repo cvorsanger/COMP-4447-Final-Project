{
 "cells": [
  {
   "cell_type": "markdown",
   "source": [
    "# Section 5: Evaluation and Conclusions\n",
    "- [Section 5.1: Results](#results)\n",
    "- [Section 5.2: Futrure Work](#future)"
   ],
   "metadata": {}
  },
  {
   "cell_type": "markdown",
   "source": [
    "## Section 5.1: Results <a class=\"anchor\" id=\"results\"></a>\n",
    "\n",
    "Description and graphs of our reults. Were they what we thought."
   ],
   "metadata": {}
  },
  {
   "cell_type": "code",
   "execution_count": null,
   "source": [
    "import matplotlib.pyplot as plt\n",
    "import pickle\n",
    "import pandas as pd\n",
    "import seaborn as sns"
   ],
   "outputs": [],
   "metadata": {}
  },
  {
   "cell_type": "code",
   "execution_count": null,
   "source": [
    "# Do subsetting\n",
    "non_lemma_df = olympic_df[['id', 'sentiment', 'polarity', 'compound', 'sport']]\n",
    "lemma_df = olympic_df[['id', 'lemma_sentiment', 'lemma_polarity', 'lemma_compound', 'sport']]"
   ],
   "outputs": [],
   "metadata": {}
  },
  {
   "cell_type": "code",
   "execution_count": null,
   "source": [
    "# Scatter plots for compound and polarity\n",
    "sns.set_theme(style='whitegrid')\n",
    "\n",
    "## TODO: Remove extraneous plotting\n",
    "\n",
    "g = sns.FacetGrid(data=non_lemma_df, col='sport', hue='sentiment')\n",
    "g.map(sns.scatterplot, 'compound', 'polarity', alpha=0.7)\n",
    "g.add_legend(title='Sentiment')\n",
    "g.set_axis_labels(x_var='Compound', y_var='Polarity')\n",
    "g.fig.suptitle('Tweet Sentiment by Sport (Non-Lemmatized)')\n",
    "plt.subplots_adjust(top=0.8)\n",
    "g.fig.set_size_inches(16, 8)\n",
    "\n",
    "g_l = sns.FacetGrid(data=lemma_df, col='sport', hue='lemma_sentiment')\n",
    "g_l.map(sns.scatterplot, 'lemma_compound', 'lemma_polarity', alpha=0.7)\n",
    "g_l.add_legend(title='Sentiment')\n",
    "g_l.set_axis_labels(x_var='Compound', y_var='Polarity')\n",
    "g_l.fig.suptitle('Tweet Sentiment by Sport (Lemmatized)')\n",
    "plt.subplots_adjust(top=0.8)\n",
    "g_l.fig.set_size_inches(16, 8)\n"
   ],
   "outputs": [],
   "metadata": {}
  },
  {
   "cell_type": "code",
   "execution_count": null,
   "source": [
    "# Non-Lemmatized Bar charts\n",
    "sentiment_data = olympic_df[['id','sentiment', 'sport']]\n",
    "df = pd.DataFrame(sentiment_data.groupby(by=['sport', 'sentiment'])['id'].count()).reset_index()\n",
    "\n",
    "## TODO: Remove extraneous plotting\n",
    "\n",
    "# get the list of counts for each sport by sentiment\n",
    "neg = df.id[df.sentiment == 'negative'].values\n",
    "pos = df.id[df.sentiment == 'positive'].values\n",
    "neu = df.id[df.sentiment == 'neutral'].values\n",
    "\n",
    "totals = [ i + j + k for i, j, k in zip(neg, pos, neu) ]\n",
    "neg_adj = [ i / j * 100 for i, j in zip(neg, totals) ]\n",
    "pos_adj = [ i / j * 100 for i, j in zip(pos, totals) ]\n",
    "neu_adj = [ i / j * 100 for i, j in zip(neu, totals) ]\n",
    "\n",
    "labels = list(olympic_df.sport.unique())\n",
    "\n",
    "fig, ax = plt.subplots(figsize=(12, 6))\n",
    "ax.bar(labels, neg_adj, width=0.35, label='Negative Sentiment')\n",
    "ax.bar(labels, pos_adj, width=0.35, bottom=neg_adj, label='Positive Sentiment')\n",
    "ax.bar(labels, neu_adj, width=0.35, bottom=[i + j for i,j in zip(neg_adj, pos_adj)], label='Neutral Sentiment')\n",
    "\n",
    "plt.legend(loc='best', bbox_to_anchor=(1,1), ncol=1)\n",
    "plt.title('Tweet Sentiment Percentages by Sport (Non-Lemmatized)')\n",
    "plt.xlabel('Sport')\n",
    "plt.ylabel('Percentage')\n",
    "\n",
    "# Lemmatized Bar Chart\n",
    "lemma_data = olympic_df[['id','lemma_sentiment', 'sport']]\n",
    "df = pd.DataFrame(lemma_data.groupby(by=['sport', 'lemma_sentiment'])['id'].count()).reset_index()\n",
    "\n",
    "# get the list of counts for each sport by sentiment\n",
    "neg = df.id[df.lemma_sentiment == 'negative'].values\n",
    "pos = df.id[df.lemma_sentiment == 'positive'].values\n",
    "neu = df.id[df.lemma_sentiment == 'neutral'].values\n",
    "\n",
    "totals = [ i + j + k for i, j, k in zip(neg, pos, neu) ]\n",
    "neg_adj = [ i / j * 100 for i, j in zip(neg, totals) ]\n",
    "pos_adj = [ i / j * 100 for i, j in zip(pos, totals) ]\n",
    "neu_adj = [ i / j * 100 for i, j in zip(neu, totals) ]\n",
    "\n",
    "labels = list(olympic_df.sport.unique())\n",
    "\n",
    "fig, ax = plt.subplots(figsize=(12, 6))\n",
    "ax.bar(labels, neg_adj, width=0.35, label='Negative Sentiment')\n",
    "ax.bar(labels, pos_adj, width=0.35, bottom=neg_adj, label='Positive Sentiment')\n",
    "ax.bar(labels, neu_adj, width=0.35, bottom=[i + j for i,j in zip(neg_adj, pos_adj)], label='Neutral Sentiment')\n",
    "\n",
    "plt.legend(loc='best', bbox_to_anchor=(1,1), ncol=1)\n",
    "plt.title('Tweet Sentiment Percentages by Sport (Lemmatized)')\n",
    "plt.xlabel('Sport')\n",
    "plt.ylabel('Percentage')"
   ],
   "outputs": [],
   "metadata": {}
  },
  {
   "cell_type": "markdown",
   "source": [
    "## Section 5.2: Future Work <a class=\"anchor\" id=\"future\"></a>\n",
    "\n",
    "Next steps"
   ],
   "metadata": {}
  },
  {
   "cell_type": "markdown",
   "source": [
    "<div class=\"container\">\n",
    "   <div style=\"float:left;width:20%\"><a href=\"./Model.ipynb\"><< Section 4: Model Creation</a></div>\n",
    "   <div style=\"float:right;width:20%\"><a href=\"./OlympicTweets.ipynb\">Appendix 1: Master Code >></a></div>\n",
    "   <div style=\"float:right;width:40%\"><a href=\"../main.md\">Table of Contents</a></div>\n",
    "</div>"
   ],
   "metadata": {}
  }
 ],
 "metadata": {
  "kernelspec": {
   "display_name": "Python 3 (ipykernel)",
   "language": "python",
   "name": "python3"
  },
  "language_info": {
   "codemirror_mode": {
    "name": "ipython",
    "version": 3
   },
   "file_extension": ".py",
   "mimetype": "text/x-python",
   "name": "python",
   "nbconvert_exporter": "python",
   "pygments_lexer": "ipython3",
   "version": "3.9.6"
  }
 },
 "nbformat": 4,
 "nbformat_minor": 4
}