{
 "cells": [
  {
   "cell_type": "markdown",
   "source": [
    "# Section 3: Data Cleaning\n",
    "- [Section 3.1: Initial Exploration](#explor)\n",
    "- [Section 3.2: Type Conversion](#type)\n",
    "- [Section 3.3: Missing Values](#missing)\n",
    "- [Section 3.4: Outliers](#outs)"
   ],
   "metadata": {}
  },
  {
   "cell_type": "markdown",
   "source": [
    "## Section 3.1: Initial Exploration <a class=\"anchor\" id=\"explor\"></a>\n",
    "\n",
    "plots, stats, etc. that shows initial eda"
   ],
   "metadata": {}
  },
  {
   "cell_type": "markdown",
   "source": [
    "## Section 3.2: Type Conversion <a class=\"anchor\" id=\"type\"></a>\n",
    "\n",
    "Documentation of any type conversions such as datetimes"
   ],
   "metadata": {}
  },
  {
   "cell_type": "markdown",
   "source": [
    "## Section 3.3: Missing Values <a class=\"anchor\" id=\"missing\"></a>\n",
    "\n",
    "How we deal with missing values (Not really applicable)"
   ],
   "metadata": {}
  },
  {
   "cell_type": "markdown",
   "source": [
    "## Section 3.4: Outliers <a class=\"anchor\" id=\"outs\"></a>\n",
    "\n",
    "Nothing really. But it is a mentioned section. so maybe a line or two"
   ],
   "metadata": {}
  },
  {
   "cell_type": "markdown",
   "source": [
    "<div class=\"container\">\n",
    "   <div style=\"float:left;width:20%\"><a href=\"./Ingestion.ipynb\"><< Section 2: Data Ingestion</a></div>\n",
    "   <div style=\"float:right;width:20%\"><a href=\"./Model.ipynb\">Section 4: Model Creation >></a></div>\n",
    "   <div style=\"float:right;width:40%\"><a href=\"../main.md\">Table of Contents</a></div>\n",
    "</div>"
   ],
   "metadata": {}
  }
 ],
 "metadata": {
  "kernelspec": {
   "display_name": "Python 3",
   "language": "python",
   "name": "python3"
  },
  "language_info": {
   "codemirror_mode": {
    "name": "ipython",
    "version": 3
   },
   "file_extension": ".py",
   "mimetype": "text/x-python",
   "name": "python",
   "nbconvert_exporter": "python",
   "pygments_lexer": "ipython3",
   "version": "3.8.2"
  }
 },
 "nbformat": 4,
 "nbformat_minor": 4
}