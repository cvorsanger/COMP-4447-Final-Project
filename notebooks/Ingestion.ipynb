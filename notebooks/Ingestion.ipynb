{
 "cells": [
  {
   "cell_type": "markdown",
   "source": [
    "# Section 2: Data Ingestion\n",
    "\n",
    "- [Section 2.1: Motivation](#motivation)\n",
    "- [Section 2.2: Ingestion](#ingestion)\n",
    "- [Section 2.3: Sample ans Explanation](#sample)"
   ],
   "metadata": {}
  },
  {
   "cell_type": "markdown",
   "source": [
    "## Section 2.1: Motivation <a class=\"anchor\" id=\"motivation\"></a>\n",
    "\n",
    "Why Twitter data? Hashtags? etc."
   ],
   "metadata": {}
  },
  {
   "cell_type": "markdown",
   "source": [
    "## Section 2.2: Ingestion <a class=\"anchor\" id=\"ingestion\"></a>\n",
    "\n",
    "code samples and explanation of twitter api"
   ],
   "metadata": {}
  },
  {
   "cell_type": "markdown",
   "source": [
    "## Section 2.3: Sample and Explanation <a class=\"anchor\" id=\"sample\"></a>\n",
    "\n",
    "snippet of tweet data (df.sample(5 maybe 10)). Explanation of relevent rows."
   ],
   "metadata": {}
  },
  {
   "cell_type": "markdown",
   "source": [
    "<div class=\"container\">\n",
    "   <div style=\"float:left;width:15%\"><a href=\"./Intro.ipynb\"><< Section 1: Introduction</a></div>\n",
    "   <div style=\"float:right;width:20%\"><a href=\"./Cleaning.ipynb\">Section 3: Data Cleaning >></a></div>\n",
    "   <div style=\"float:right;width:40%\"><a href=\"../main.md\">Table of Contents</a></div>\n",
    "</div>"
   ],
   "metadata": {}
  }
 ],
 "metadata": {
  "kernelspec": {
   "display_name": "Python 3",
   "language": "python",
   "name": "python3"
  },
  "language_info": {
   "codemirror_mode": {
    "name": "ipython",
    "version": 3
   },
   "file_extension": ".py",
   "mimetype": "text/x-python",
   "name": "python",
   "nbconvert_exporter": "python",
   "pygments_lexer": "ipython3",
   "version": "3.8.2"
  }
 },
 "nbformat": 4,
 "nbformat_minor": 4
}